{
 "cells": [
  {
   "cell_type": "markdown",
   "metadata": {},
   "source": [
    "# Louvain Performance Benchmarking\n",
    "\n",
    "This notebook benchmarks performance improvement of running the Louvain clustering algorithm within cuGraph against NetworkX. The test is run over eight test networks (graphs) and then results plotted.  \n",
    "<p><p>\n",
    "\n",
    "\n",
    "#### Notebook Credits\n",
    "\n",
    "    Original Authors: Bradley Rees\n",
    "    Last Edit: 04/09/2019\n",
    "\n",
    "\n",
    "#### Test Environment\n",
    "\n",
    "    RAPIDS Versions: 0.6.0\n",
    "\n",
    "    GP100 32G, CUDA 9,2\n",
    "    Dual Intel(R) Xeon(R) CPU E5-2643 v4 @ 3.40GHz\n",
    "    64GB system memory\n",
    "\n",
    "\n",
    "#### Updates\n",
    "- moved loading ploting libraries to front so that dependencies can be checked before running algorithms\n",
    "- added edge values \n",
    "- changed timing to including Graph creation for both cuGraph and NetworkX.  This will better represent end-to-end times\n",
    "\n",
    "\n",
    "\n",
    "#### Dependencies\n",
    "- RAPIDS cuDF and cuGraph version 0.6.0 \n",
    "- NetworkX \n",
    "- Matplotlib \n",
    "- Scipy \n",
    "- data prep script run\n",
    "\n",
    "\n",
    "\n",
    "#### Note: Comparison against published results\n",
    "\n",
    "\n",
    "The cuGraph blog post included performance numbers that were collected over a year ago.  For the test graphs, int32 values are now used.  That improves GPUs performance.  Additionally, the initial benchamrks were measured on a P100 GPU. \n",
    "\n",
    "This test only comparse the modularity scores and a success is if the scores are within 15% of each other.  That comparison is done by adjusting the NetworkX modularity score and then verifying that the cuGraph score is higher.\n",
    "\n",
    "cuGraph did a full validation of NetworkX results against cuGraph results.  That included cross-validation of every cluster.  That test is very slow and not included here"
   ]
  },
  {
   "cell_type": "code",
   "execution_count": 1,
   "metadata": {},
   "outputs": [],
   "source": [
    "# Import needed libraries\n",
    "import time\n",
    "import cugraph\n",
    "import cudf"
   ]
  },
  {
   "cell_type": "code",
   "execution_count": 2,
   "metadata": {},
   "outputs": [],
   "source": [
    "# NetworkX libraries\n",
    "import community\n",
    "import networkx as nx\n",
    "from scipy.io import mmread"
   ]
  },
  {
   "cell_type": "code",
   "execution_count": 3,
   "metadata": {},
   "outputs": [],
   "source": [
    "# Loading plotting libraries\n",
    "import matplotlib.pyplot as plt; plt.rcdefaults()\n",
    "import numpy as np\n",
    "import matplotlib.pyplot as plt"
   ]
  },
  {
   "cell_type": "markdown",
   "metadata": {},
   "source": [
    "### Define the test data"
   ]
  },
  {
   "cell_type": "code",
   "execution_count": 4,
   "metadata": {},
   "outputs": [],
   "source": [
    "# Test File\n",
    "data = {\n",
    "    'preferentialAttachment' : './data/preferentialAttachment.mtx',\n",
    "    'caidaRouterLevel'       : './data/caidaRouterLevel.mtx',\n",
    "    'coAuthorsDBLP'          : './data/coAuthorsDBLP.mtx',\n",
    "    'dblp'                   : './data/dblp-2010.mtx',\n",
    "    'citationCiteseer'       : './data/citationCiteseer.mtx',\n",
    "    'coPapersDBLP'           : './data/coPapersDBLP.mtx',\n",
    "    'coPapersCiteseer'       : './data/coPapersCiteseer.mtx',\n",
    "    'as-Skitter'             : './data/as-Skitter.mtx'\n",
    "}"
   ]
  },
  {
   "cell_type": "markdown",
   "metadata": {},
   "source": [
    "### Define the testing functions"
   ]
  },
  {
   "cell_type": "code",
   "execution_count": 5,
   "metadata": {},
   "outputs": [],
   "source": [
    "# Read in a dataset in MTX format \n",
    "def read_mtx_file(mm_file):\n",
    "    print('Reading ' + str(mm_file) + '...')\n",
    "    d = mmread(mm_file).asfptype()\n",
    "    M = d.tocsr()\n",
    "    \n",
    "    if M is None:\n",
    "        raise TypeError('Could not read the input graph')\n",
    "    if M.shape[0] != M.shape[1]:\n",
    "        raise TypeError('Shape is not square')\n",
    "        \n",
    "    return M"
   ]
  },
  {
   "cell_type": "code",
   "execution_count": 6,
   "metadata": {},
   "outputs": [],
   "source": [
    "# Run the cuGraph Louvain analytic (using nvGRAPH function)\n",
    "def cugraph_call(M):\n",
    "\n",
    "    t1 = time.time()\n",
    "\n",
    "    # data\n",
    "    row_offsets = cudf.Series(M.indptr)\n",
    "    col_indices = cudf.Series(M.indices)\n",
    "    data        = cudf.Series(M.data)\n",
    "    \n",
    "    # create graph \n",
    "    G = cugraph.Graph()\n",
    "    G.add_adj_list(row_offsets, col_indices, data)\n",
    "\n",
    "    # cugraph Louvain Call\n",
    "    print('  cuGraph Solving... ')\n",
    "    df, mod = cugraph.nvLouvain(G)   \n",
    "    \n",
    "    t2 = time.time() - t1\n",
    "    return t2, mod\n"
   ]
  },
  {
   "cell_type": "code",
   "execution_count": 7,
   "metadata": {},
   "outputs": [],
   "source": [
    "# Run the NetworkX Louvain analytic.  THis is done in two parts since the modularity score is not returned \n",
    "def networkx_call(M):\n",
    "   \n",
    "    t1 = time.time()\n",
    "\n",
    "    # Directed NetworkX graph\n",
    "    Gnx = nx.Graph(M)\n",
    "\n",
    "    # Networkx \n",
    "    print('  NetworkX Solving... ')\n",
    "    parts = community.best_partition(Gnx)\n",
    "    \n",
    "    # Calculating modularity scores for comparison \n",
    "    mod = community.modularity(parts, Gnx)   \n",
    "    \n",
    "    t2 = time.time() - t1\n",
    "    \n",
    "    return t2, mod"
   ]
  },
  {
   "cell_type": "markdown",
   "metadata": {},
   "source": [
    "### Run the benchmarks"
   ]
  },
  {
   "cell_type": "code",
   "execution_count": 8,
   "metadata": {
    "scrolled": true
   },
   "outputs": [
    {
     "name": "stdout",
     "output_type": "stream",
     "text": [
      "Reading ./data/preferentialAttachment.mtx...\n",
      "  cuGraph Solving... \n",
      "  NetworkX Solving... \n",
      "2344.2160923881643x fatser =>  cugraph 0.9594738483428955 vs 2249.214035511017\n",
      "Modularity =>  cugraph 0.19461682219817675 should be greater than 0.20806561327583747\n",
      "Reading ./data/caidaRouterLevel.mtx...\n",
      "  cuGraph Solving... \n",
      "  NetworkX Solving... \n",
      "2293.4453926935234x fatser =>  cugraph 0.1047067642211914 vs 240.13924598693848\n",
      "Modularity =>  cugraph 0.7872923202092253 should be greater than 0.7294696890786043\n",
      "Reading ./data/coAuthorsDBLP.mtx...\n",
      "  cuGraph Solving... \n",
      "  NetworkX Solving... \n",
      "7688.488080469727x fatser =>  cugraph 0.09936165809631348 vs 763.9409239292145\n",
      "Modularity =>  cugraph 0.7648739273488195 should be greater than 0.7012939044778534\n",
      "Reading ./data/dblp-2010.mtx...\n",
      "  cuGraph Solving... \n",
      "  NetworkX Solving... \n",
      "4806.749982230856x fatser =>  cugraph 0.120758056640625 vs 580.453786611557\n",
      "Modularity =>  cugraph 0.7506256512679915 should be greater than 0.7456758234490394\n",
      "Reading ./data/citationCiteseer.mtx...\n",
      "  cuGraph Solving... \n",
      "  NetworkX Solving... \n",
      "7090.700205081772x fatser =>  cugraph 0.11427903175354004 vs 810.3183538913727\n",
      "Modularity =>  cugraph 0.6726575224227932 should be greater than 0.6848415080497038\n",
      "Reading ./data/coPapersDBLP.mtx...\n",
      "  cuGraph Solving... \n",
      "  NetworkX Solving... \n",
      "6928.169720175114x fatser =>  cugraph 0.2779655456542969 vs 1925.7924766540527\n",
      "Modularity =>  cugraph 0.7286893741920047 should be greater than 0.7308754016763338\n",
      "Reading ./data/coPapersCiteseer.mtx...\n",
      "  cuGraph Solving... \n",
      "  NetworkX Solving... \n",
      "6378.494365754716x fatser =>  cugraph 0.2792854309082031 vs 1781.4205474853516\n",
      "Modularity =>  cugraph 0.8398191858860514 should be greater than 0.7811640540887154\n",
      "Reading ./data/as-Skitter.mtx...\n",
      "  cuGraph Solving... \n",
      "  NetworkX Solving... \n",
      "10850.841906954392x fatser =>  cugraph 0.3363795280456543 vs 3650.001079559326\n",
      "Modularity =>  cugraph 0.7690203783842553 should be greater than 0.7165217216278341\n"
     ]
    }
   ],
   "source": [
    "# Loop through each test file and compute the speedup\n",
    "perf  = []\n",
    "names = []\n",
    "\n",
    "for k,v in data.items():\n",
    "    M = read_mtx_file(v)\n",
    "    tr, modc = cugraph_call(M)\n",
    "    tn, modx = networkx_call(M)\n",
    "    \n",
    "    speedUp = (tn / tr)\n",
    "    names.append(k)\n",
    "    perf.append(speedUp)\n",
    "    \n",
    "    mod_delta = (0.85 * modx)\n",
    "    \n",
    "    print(str(speedUp) + \"x fatser =>  cugraph \" + str(tr) + \" vs \" + str(tn))\n",
    "    print(\"Modularity =>  cugraph \" + str(modc) + \" should be greater than \" + str(mod_delta))"
   ]
  },
  {
   "cell_type": "markdown",
   "metadata": {},
   "source": [
    "### plot the output"
   ]
  },
  {
   "cell_type": "code",
   "execution_count": 9,
   "metadata": {},
   "outputs": [
    {
     "data": {
      "image/png": "[encoded data removed]",
      "text/plain": [
       "<Figure size 432x288 with 1 Axes>"
      ]
     },
     "metadata": {
      "needs_background": "light"
     },
     "output_type": "display_data"
    }
   ],
   "source": [
    "%matplotlib inline\n",
    "\n",
    "y_pos = np.arange(len(names))\n",
    " \n",
    "plt.bar(y_pos, perf, align='center', alpha=0.5)\n",
    "plt.xticks(y_pos, names)\n",
    "plt.ylabel('Speed Up')\n",
    "plt.title('Performance Speedup: cuGraph vs NetworkX')\n",
    "plt.xticks(rotation=90) \n",
    "plt.show()"
   ]
  },
  {
   "cell_type": "code",
   "execution_count": null,
   "metadata": {},
   "outputs": [],
   "source": []
  },
  {
   "cell_type": "code",
   "execution_count": null,
   "metadata": {},
   "outputs": [],
   "source": []
  }
 ],
 "metadata": {
  "kernelspec": {
   "display_name": "Python 3",
   "language": "python",
   "name": "python3"
  },
  "language_info": {
   "codemirror_mode": {
    "name": "ipython",
    "version": 3
   },
   "file_extension": ".py",
   "mimetype": "text/x-python",
   "name": "python",
   "nbconvert_exporter": "python",
   "pygments_lexer": "ipython3",
   "version": "3.7.3"
  }
 },
 "nbformat": 4,
 "nbformat_minor": 2
}
