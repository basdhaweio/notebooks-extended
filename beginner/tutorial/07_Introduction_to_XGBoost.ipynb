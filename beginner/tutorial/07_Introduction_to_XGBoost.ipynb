{
 "cells": [
  {
   "cell_type": "markdown",
   "metadata": {},
   "source": [
    "<a id=\"introduction\"></a>\n",
    "## Introduction to XGBoost\n",
    "#### By Paul Hendricks\n",
    "-------\n",
    "\n",
    "In this notebook, we will show how to work with GPU accelerated XGBoost in RAPIDS.\n",
    "\n",
    "**Table of Contents**\n",
    "\n",
    "* [Introduction to XGBoost](#introduction)\n",
    "* [Setup](#setup)\n",
    "* [Load Libraries](#libraries)\n",
    "* [Generate Data](#generate)\n",
    "  * [Load Data](#load)\n",
    "  * [Simulate Data](#simulate)\n",
    "  * [Split Data](#split)\n",
    "  * [Check Dimensions](#check)\n",
    "* [Convert NumPy data to DMatrix format](#convert)\n",
    "* [Set Parameters](#parameters)\n",
    "* [Train Model](#train)\n",
    "* [Conclusion](#conclusion)"
   ]
  },
  {
   "cell_type": "markdown",
   "metadata": {},
   "source": [
    "<a id=\"setup\"></a>\n",
    "## Setup\n",
    "\n",
    "This notebook was tested using the following Docker containers:\n",
    "\n",
    "* `rapidsai/rapidsai-nightly:0.8-cuda10.0-devel-ubuntu18.04-gcc7-py3.7` from [DockerHub - rapidsai/rapidsai-nightly](https://hub.docker.com/r/rapidsai/rapidsai-nightly)\n",
    "\n",
    "This notebook was run on the NVIDIA Tesla V100 GPU. Please be aware that your system may be different and you may need to modify the code or install packages to run the below examples. \n",
    "\n",
    "If you think you have found a bug or an error, please file an issue here: https://github.com/rapidsai/notebooks/issues\n",
    "\n",
    "Before we begin, let's check out our hardware setup by running the `nvidia-smi` command."
   ]
  },
  {
   "cell_type": "code",
   "execution_count": 1,
   "metadata": {
    "ExecuteTime": {
     "end_time": "2018-11-06T21:03:38.237293Z",
     "start_time": "2018-11-06T21:03:37.388285Z"
    }
   },
   "outputs": [
    {
     "name": "stdout",
     "output_type": "stream",
     "text": [
      "Tue Jun 11 01:35:38 2019       \n",
      "+-----------------------------------------------------------------------------+\n",
      "| NVIDIA-SMI 418.67       Driver Version: 418.67       CUDA Version: 10.1     |\n",
      "|-------------------------------+----------------------+----------------------+\n",
      "| GPU  Name        Persistence-M| Bus-Id        Disp.A | Volatile Uncorr. ECC |\n",
      "| Fan  Temp  Perf  Pwr:Usage/Cap|         Memory-Usage | GPU-Util  Compute M. |\n",
      "|===============================+======================+======================|\n",
      "|   0  Tesla V100-SXM2...  On   | 00000000:06:00.0 Off |                    0 |\n",
      "| N/A   38C    P0    44W / 300W |      0MiB / 16130MiB |      0%      Default |\n",
      "+-------------------------------+----------------------+----------------------+\n",
      "|   1  Tesla V100-SXM2...  On   | 00000000:07:00.0 Off |                    0 |\n",
      "| N/A   38C    P0    42W / 300W |      0MiB / 16130MiB |      0%      Default |\n",
      "+-------------------------------+----------------------+----------------------+\n",
      "|   2  Tesla V100-SXM2...  On   | 00000000:0A:00.0 Off |                    0 |\n",
      "| N/A   39C    P0    44W / 300W |      0MiB / 16130MiB |      0%      Default |\n",
      "+-------------------------------+----------------------+----------------------+\n",
      "|   3  Tesla V100-SXM2...  On   | 00000000:0B:00.0 Off |                    0 |\n",
      "| N/A   37C    P0    43W / 300W |      0MiB / 16130MiB |      0%      Default |\n",
      "+-------------------------------+----------------------+----------------------+\n",
      "|   4  Tesla V100-SXM2...  On   | 00000000:85:00.0 Off |                    0 |\n",
      "| N/A   37C    P0    43W / 300W |      0MiB / 16130MiB |      0%      Default |\n",
      "+-------------------------------+----------------------+----------------------+\n",
      "|   5  Tesla V100-SXM2...  On   | 00000000:86:00.0 Off |                    0 |\n",
      "| N/A   38C    P0    43W / 300W |      0MiB / 16130MiB |      0%      Default |\n",
      "+-------------------------------+----------------------+----------------------+\n",
      "|   6  Tesla V100-SXM2...  On   | 00000000:89:00.0 Off |                    0 |\n",
      "| N/A   40C    P0    43W / 300W |      0MiB / 16130MiB |      0%      Default |\n",
      "+-------------------------------+----------------------+----------------------+\n",
      "|   7  Tesla V100-SXM2...  On   | 00000000:8A:00.0 Off |                    0 |\n",
      "| N/A   37C    P0    42W / 300W |      0MiB / 16130MiB |      0%      Default |\n",
      "+-------------------------------+----------------------+----------------------+\n",
      "                                                                               \n",
      "+-----------------------------------------------------------------------------+\n",
      "| Processes:                                                       GPU Memory |\n",
      "|  GPU       PID   Type   Process name                             Usage      |\n",
      "|=============================================================================|\n",
      "|  No running processes found                                                 |\n",
      "+-----------------------------------------------------------------------------+\n"
     ]
    }
   ],
   "source": [
    "!nvidia-smi"
   ]
  },
  {
   "cell_type": "markdown",
   "metadata": {},
   "source": [
    "Next, let's see what CUDA version we have."
   ]
  },
  {
   "cell_type": "code",
   "execution_count": 2,
   "metadata": {
    "ExecuteTime": {
     "end_time": "2018-11-06T21:03:39.490984Z",
     "start_time": "2018-11-06T21:03:39.134608Z"
    }
   },
   "outputs": [
    {
     "name": "stdout",
     "output_type": "stream",
     "text": [
      "nvcc: NVIDIA (R) Cuda compiler driver\r\n",
      "Copyright (c) 2005-2018 NVIDIA Corporation\r\n",
      "Built on Sat_Aug_25_21:08:01_CDT_2018\r\n",
      "Cuda compilation tools, release 10.0, V10.0.130\r\n"
     ]
    }
   ],
   "source": [
    "!nvcc --version"
   ]
  },
  {
   "cell_type": "markdown",
   "metadata": {},
   "source": [
    "<a id=\"libraries\"></a>\n",
    "## Load Libraries\n",
    "\n",
    "Let's load some of the libraries within the RAPIDs ecosystem and see which versions we have."
   ]
  },
  {
   "cell_type": "code",
   "execution_count": 3,
   "metadata": {
    "ExecuteTime": {
     "end_time": "2018-11-06T21:03:41.067879Z",
     "start_time": "2018-11-06T21:03:40.256654Z"
    }
   },
   "outputs": [
    {
     "name": "stdout",
     "output_type": "stream",
     "text": [
      "numpy Version: 1.16.2\n",
      "pandas Version: 0.23.4\n",
      "Scikit-Learn Version: 0.21.2\n",
      "XGBoost Version: 0.90.rapidsdev1\n"
     ]
    }
   ],
   "source": [
    "import numpy as np; print('numpy Version:', np.__version__)\n",
    "import pandas as pd; print('pandas Version:', pd.__version__)\n",
    "import sklearn; print('Scikit-Learn Version:', sklearn.__version__)\n",
    "import xgboost as xgb; print('XGBoost Version:', xgb.__version__)"
   ]
  },
  {
   "cell_type": "markdown",
   "metadata": {},
   "source": [
    "<a id=\"generate\"></a>\n",
    "## Generate Data\n",
    "\n",
    "<a id=\"load\"></a>\n",
    "### Load Data\n",
    "\n",
    "We can load the data using `pandas.read_csv`. We've provided a helper function `load_data` that will load data from a CSV file (and will only read the first 1 billion rows if that file is unreasonably big)."
   ]
  },
  {
   "cell_type": "code",
   "execution_count": 4,
   "metadata": {},
   "outputs": [],
   "source": [
    "# helper function for loading data\n",
    "def load_data(filename, n_rows):\n",
    "    if n_rows >= 1e9:\n",
    "        df = pd.read_csv(filename)\n",
    "    else:\n",
    "        df = pd.read_csv(filename, nrows=n_rows)\n",
    "    return df.values.astype(np.float32)"
   ]
  },
  {
   "cell_type": "markdown",
   "metadata": {},
   "source": [
    "<a id=\"simulate\"></a>\n",
    "### Simulate Data\n",
    "\n",
    "Alternatively, we can simulate data for our train and validation datasets. The features will be tabular with `n_rows` and `n_columns` in the training dataset, where each value is either of type `np.float32`. We can simulate data for both classification and regression using the `make_classification` or `make_regression` functions from the Scikit-Learn package."
   ]
  },
  {
   "cell_type": "code",
   "execution_count": 5,
   "metadata": {},
   "outputs": [],
   "source": [
    "from sklearn.datasets import make_classification, make_regression\n",
    "\n",
    "\n",
    "# helper function for simulating data\n",
    "def simulate_data(m, n, k=2, random_state=None, classification=True):\n",
    "    if classification:\n",
    "        features, labels = make_classification(n_samples=m, n_features=n, \n",
    "                                               n_informative=int(n/5), n_classes=k, \n",
    "                                              random_state=random_state)\n",
    "    else:\n",
    "        features, labels = make_regression(n_samples=m, n_features=n, \n",
    "                                           n_informative=int(n/5), n_targets=1, \n",
    "                                           random_state=random_state)\n",
    "    return np.c_[labels, features].astype(np.float32)"
   ]
  },
  {
   "cell_type": "code",
   "execution_count": 6,
   "metadata": {},
   "outputs": [],
   "source": [
    "# settings\n",
    "simulate = True\n",
    "classification = True  # change this to false to use regression\n",
    "n_rows = int(1e6)  # we'll use 1 millions rows\n",
    "n_columns = int(100)\n",
    "n_categories = 2\n",
    "random_state = np.random.RandomState(43210)"
   ]
  },
  {
   "cell_type": "code",
   "execution_count": 7,
   "metadata": {},
   "outputs": [
    {
     "name": "stdout",
     "output_type": "stream",
     "text": [
      "(1000000, 101)\n",
      "CPU times: user 23.1 s, sys: 4.9 s, total: 28 s\n",
      "Wall time: 7.04 s\n"
     ]
    }
   ],
   "source": [
    "%%time\n",
    "\n",
    "if simulate:\n",
    "    dataset = simulate_data(n_rows, n_columns, n_categories, \n",
    "                            random_state=random_state, \n",
    "                            classification=classification)\n",
    "else:\n",
    "    dataset = load_data('/tmp', n_rows)\n",
    "print(dataset.shape)"
   ]
  },
  {
   "cell_type": "markdown",
   "metadata": {},
   "source": [
    "<a id=\"split\"></a>\n",
    "### Split Data\n",
    "\n",
    "We'll split our dataset into a 80% training dataset and a 20% validation dataset."
   ]
  },
  {
   "cell_type": "code",
   "execution_count": 8,
   "metadata": {},
   "outputs": [],
   "source": [
    "# identify shape and indices\n",
    "n_rows, n_columns = dataset.shape\n",
    "train_size = 0.80\n",
    "train_index = int(n_rows * train_size)\n",
    "\n",
    "# split X, y\n",
    "X, y = dataset[:, 1:], dataset[:, 0]\n",
    "del dataset\n",
    "\n",
    "# split train data\n",
    "X_train, y_train = X[:train_index, :], y[:train_index]\n",
    "\n",
    "# split validation data\n",
    "X_validation, y_validation = X[train_index:, :], y[train_index:]"
   ]
  },
  {
   "cell_type": "markdown",
   "metadata": {},
   "source": [
    "<a id=\"check\"></a>\n",
    "### Check Dimensions\n",
    "\n",
    "We can check the dimensions and proportions of our training and validation dataets."
   ]
  },
  {
   "cell_type": "code",
   "execution_count": 9,
   "metadata": {},
   "outputs": [
    {
     "name": "stdout",
     "output_type": "stream",
     "text": [
      "X_train:  (800000, 100) float32 y_train:  (800000,) float32\n",
      "X_validation (200000, 100) float32 y_validation:  (200000,) float32\n",
      "X_train proportion: 0.8\n",
      "X_validation proportion: 0.2\n"
     ]
    }
   ],
   "source": [
    "# check dimensions\n",
    "print('X_train: ', X_train.shape, X_train.dtype, 'y_train: ', y_train.shape, y_train.dtype)\n",
    "print('X_validation', X_validation.shape, X_validation.dtype, 'y_validation: ', y_validation.shape, y_validation.dtype)\n",
    "\n",
    "# check the proportions\n",
    "total = X_train.shape[0] + X_validation.shape[0]\n",
    "print('X_train proportion:', X_train.shape[0] / total)\n",
    "print('X_validation proportion:', X_validation.shape[0] / total)"
   ]
  },
  {
   "cell_type": "markdown",
   "metadata": {},
   "source": [
    "<a id=\"convert\"></a>\n",
    "## Convert NumPy data to DMatrix format\n",
    "\n",
    "With out data loaded and formatted as NumPy arrays, our next step is to convert this to a `DMatrix` object that XGBoost can work with. We can instantiate an object of the `xgboost.DMatrix` by passing in the feature matrix as the first argument followed by the label vector using the `label=` keyword argument. To learn more about XGBoost's support for data structures other than NumPy arrays, see the documentation for the Data Interface:\n",
    "\n",
    "\n",
    "https://xgboost.readthedocs.io/en/latest/python/python_intro.html#data-interface"
   ]
  },
  {
   "cell_type": "code",
   "execution_count": 10,
   "metadata": {
    "ExecuteTime": {
     "end_time": "2018-11-06T21:03:55.278322Z",
     "start_time": "2018-11-06T21:03:54.059643Z"
    }
   },
   "outputs": [
    {
     "name": "stdout",
     "output_type": "stream",
     "text": [
      "CPU times: user 660 ms, sys: 263 ms, total: 923 ms\n",
      "Wall time: 920 ms\n"
     ]
    },
    {
     "name": "stderr",
     "output_type": "stream",
     "text": [
      "/conda/envs/rapids/lib/python3.7/site-packages/xgboost-0.90.rapidsdev1-py3.7.egg/xgboost/core.py:630: UserWarning: Use subset (sliced data) of np.ndarray is not recommended because it will generate extra copies and increase memory consumption\n",
      "  warnings.warn(\"Use subset (sliced data) of np.ndarray is not recommended \" +\n"
     ]
    }
   ],
   "source": [
    "%%time\n",
    "\n",
    "dtrain = xgb.DMatrix(X_train, label=y_train)\n",
    "dvalidation = xgb.DMatrix(X_validation, label=y_validation)"
   ]
  },
  {
   "cell_type": "markdown",
   "metadata": {},
   "source": [
    "<a id=\"parameters\"></a>\n",
    "## Set Parameters\n",
    "\n",
    "There are a number of parameters that can be set before XGBoost can be run. \n",
    "\n",
    "* General parameters relate to which booster we are using to do boosting, commonly tree or linear model\n",
    "* Booster parameters depend on which booster you have chosen\n",
    "* Learning task parameters decide on the learning scenario. For example, regression tasks may use different parameters with ranking tasks.\n",
    "\n",
    "For more information on the configurable parameters within the XGBoost module, see the documentation here:\n",
    "\n",
    "\n",
    "https://xgboost.readthedocs.io/en/latest/parameter.html"
   ]
  },
  {
   "cell_type": "code",
   "execution_count": 11,
   "metadata": {
    "ExecuteTime": {
     "end_time": "2018-11-06T21:03:57.443698Z",
     "start_time": "2018-11-06T21:03:57.438288Z"
    }
   },
   "outputs": [
    {
     "name": "stdout",
     "output_type": "stream",
     "text": [
      "{'silent': 1, 'tree_method': 'gpu_hist', 'n_gpus': 1, 'eval_metric': 'auc', 'objective': 'binary:logistic'}\n"
     ]
    }
   ],
   "source": [
    "# instantiate params\n",
    "params = {}\n",
    "\n",
    "# general params\n",
    "general_params = {'silent': 1}\n",
    "params.update(general_params)\n",
    "\n",
    "# booster params\n",
    "n_gpus = 1  # change this to -1 to use all GPUs available or 0 to use the CPU\n",
    "booster_params = {}\n",
    "\n",
    "if n_gpus != 0:\n",
    "    booster_params['tree_method'] = 'gpu_hist'\n",
    "    booster_params['n_gpus'] = n_gpus   \n",
    "params.update(booster_params)\n",
    "\n",
    "# learning task params\n",
    "learning_task_params = {}\n",
    "if classification:\n",
    "    learning_task_params['eval_metric'] = 'auc'\n",
    "    learning_task_params['objective'] = 'binary:logistic'\n",
    "else:\n",
    "    learning_task_params['eval_metric'] = 'rmse'\n",
    "    learning_task_params['objective'] = 'reg:squarederror'\n",
    "params.update(learning_task_params)\n",
    "print(params)"
   ]
  },
  {
   "cell_type": "markdown",
   "metadata": {},
   "source": [
    "<a id=\"train\"></a>\n",
    "## Train Model\n",
    "\n",
    "Now it's time to train our model! We can use the `xgb.train` function and pass in the parameters, training dataset, the number of boosting iterations, and the list of items to be evaluated during training. For more information on the parameters that can be passed into `xgb.train`, check out the documentation:\n",
    "\n",
    "\n",
    "https://xgboost.readthedocs.io/en/latest/python/python_api.html#xgboost.train"
   ]
  },
  {
   "cell_type": "code",
   "execution_count": 12,
   "metadata": {},
   "outputs": [],
   "source": [
    "# model training settings\n",
    "evallist = [(dvalidation, 'validation'), (dtrain, 'train')]\n",
    "num_round = 100"
   ]
  },
  {
   "cell_type": "code",
   "execution_count": 13,
   "metadata": {
    "ExecuteTime": {
     "end_time": "2018-11-06T21:04:50.201308Z",
     "start_time": "2018-11-06T21:04:00.363740Z"
    },
    "scrolled": true
   },
   "outputs": [
    {
     "name": "stdout",
     "output_type": "stream",
     "text": [
      "[0]\tvalidation-auc:0.891425\ttrain-auc:0.893104\n",
      "[1]\tvalidation-auc:0.919287\ttrain-auc:0.920578\n",
      "[2]\tvalidation-auc:0.939195\ttrain-auc:0.940549\n",
      "[3]\tvalidation-auc:0.948355\ttrain-auc:0.949738\n",
      "[4]\tvalidation-auc:0.955807\ttrain-auc:0.957144\n",
      "[5]\tvalidation-auc:0.960417\ttrain-auc:0.961769\n",
      "[6]\tvalidation-auc:0.964892\ttrain-auc:0.96612\n",
      "[7]\tvalidation-auc:0.96865\ttrain-auc:0.969812\n",
      "[8]\tvalidation-auc:0.971283\ttrain-auc:0.97245\n",
      "[9]\tvalidation-auc:0.974152\ttrain-auc:0.975335\n",
      "[10]\tvalidation-auc:0.97564\ttrain-auc:0.976801\n",
      "[11]\tvalidation-auc:0.977974\ttrain-auc:0.979173\n",
      "[12]\tvalidation-auc:0.978912\ttrain-auc:0.980101\n",
      "[13]\tvalidation-auc:0.980004\ttrain-auc:0.981134\n",
      "[14]\tvalidation-auc:0.980751\ttrain-auc:0.981881\n",
      "[15]\tvalidation-auc:0.982025\ttrain-auc:0.983185\n",
      "[16]\tvalidation-auc:0.982686\ttrain-auc:0.983832\n",
      "[17]\tvalidation-auc:0.983103\ttrain-auc:0.984236\n",
      "[18]\tvalidation-auc:0.983983\ttrain-auc:0.985098\n",
      "[19]\tvalidation-auc:0.984504\ttrain-auc:0.985615\n",
      "[20]\tvalidation-auc:0.985065\ttrain-auc:0.986162\n",
      "[21]\tvalidation-auc:0.985803\ttrain-auc:0.986855\n",
      "[22]\tvalidation-auc:0.986142\ttrain-auc:0.987172\n",
      "[23]\tvalidation-auc:0.986367\ttrain-auc:0.987388\n",
      "[24]\tvalidation-auc:0.986588\ttrain-auc:0.987609\n",
      "[25]\tvalidation-auc:0.987336\ttrain-auc:0.988301\n",
      "[26]\tvalidation-auc:0.987748\ttrain-auc:0.988675\n",
      "[27]\tvalidation-auc:0.988016\ttrain-auc:0.988937\n",
      "[28]\tvalidation-auc:0.988269\ttrain-auc:0.989183\n",
      "[29]\tvalidation-auc:0.988752\ttrain-auc:0.989633\n",
      "[30]\tvalidation-auc:0.989002\ttrain-auc:0.989889\n",
      "[31]\tvalidation-auc:0.989385\ttrain-auc:0.990253\n",
      "[32]\tvalidation-auc:0.989538\ttrain-auc:0.990396\n",
      "[33]\tvalidation-auc:0.989619\ttrain-auc:0.990486\n",
      "[34]\tvalidation-auc:0.989867\ttrain-auc:0.990723\n",
      "[35]\tvalidation-auc:0.989936\ttrain-auc:0.990796\n",
      "[36]\tvalidation-auc:0.990094\ttrain-auc:0.990959\n",
      "[37]\tvalidation-auc:0.990345\ttrain-auc:0.991208\n",
      "[38]\tvalidation-auc:0.990591\ttrain-auc:0.99144\n",
      "[39]\tvalidation-auc:0.990668\ttrain-auc:0.991535\n",
      "[40]\tvalidation-auc:0.990683\ttrain-auc:0.99158\n",
      "[41]\tvalidation-auc:0.990725\ttrain-auc:0.991638\n",
      "[42]\tvalidation-auc:0.990897\ttrain-auc:0.991804\n",
      "[43]\tvalidation-auc:0.991003\ttrain-auc:0.991903\n",
      "[44]\tvalidation-auc:0.991162\ttrain-auc:0.992056\n",
      "[45]\tvalidation-auc:0.991182\ttrain-auc:0.992093\n",
      "[46]\tvalidation-auc:0.99123\ttrain-auc:0.992157\n",
      "[47]\tvalidation-auc:0.99142\ttrain-auc:0.992331\n",
      "[48]\tvalidation-auc:0.991452\ttrain-auc:0.992376\n",
      "[49]\tvalidation-auc:0.991481\ttrain-auc:0.992415\n",
      "[50]\tvalidation-auc:0.991525\ttrain-auc:0.992471\n",
      "[51]\tvalidation-auc:0.991617\ttrain-auc:0.992571\n",
      "[52]\tvalidation-auc:0.991662\ttrain-auc:0.992625\n",
      "[53]\tvalidation-auc:0.991689\ttrain-auc:0.992669\n",
      "[54]\tvalidation-auc:0.991812\ttrain-auc:0.992804\n",
      "[55]\tvalidation-auc:0.991817\ttrain-auc:0.992827\n",
      "[56]\tvalidation-auc:0.991878\ttrain-auc:0.992893\n",
      "[57]\tvalidation-auc:0.991941\ttrain-auc:0.992967\n",
      "[58]\tvalidation-auc:0.992016\ttrain-auc:0.993049\n",
      "[59]\tvalidation-auc:0.992155\ttrain-auc:0.99319\n",
      "[60]\tvalidation-auc:0.992255\ttrain-auc:0.993281\n",
      "[61]\tvalidation-auc:0.992301\ttrain-auc:0.993338\n",
      "[62]\tvalidation-auc:0.992318\ttrain-auc:0.993374\n",
      "[63]\tvalidation-auc:0.992426\ttrain-auc:0.993478\n",
      "[64]\tvalidation-auc:0.992516\ttrain-auc:0.993571\n",
      "[65]\tvalidation-auc:0.992566\ttrain-auc:0.993626\n",
      "[66]\tvalidation-auc:0.992666\ttrain-auc:0.993726\n",
      "[67]\tvalidation-auc:0.992692\ttrain-auc:0.993761\n",
      "[68]\tvalidation-auc:0.992716\ttrain-auc:0.993785\n",
      "[69]\tvalidation-auc:0.99273\ttrain-auc:0.993822\n",
      "[70]\tvalidation-auc:0.992755\ttrain-auc:0.993856\n",
      "[71]\tvalidation-auc:0.992808\ttrain-auc:0.993914\n",
      "[72]\tvalidation-auc:0.992846\ttrain-auc:0.993948\n",
      "[73]\tvalidation-auc:0.992884\ttrain-auc:0.993989\n",
      "[74]\tvalidation-auc:0.992933\ttrain-auc:0.994034\n",
      "[75]\tvalidation-auc:0.993003\ttrain-auc:0.994103\n",
      "[76]\tvalidation-auc:0.993115\ttrain-auc:0.994202\n",
      "[77]\tvalidation-auc:0.993205\ttrain-auc:0.994281\n",
      "[78]\tvalidation-auc:0.993279\ttrain-auc:0.994352\n",
      "[79]\tvalidation-auc:0.993309\ttrain-auc:0.994395\n",
      "[80]\tvalidation-auc:0.993327\ttrain-auc:0.994421\n",
      "[81]\tvalidation-auc:0.993344\ttrain-auc:0.994455\n",
      "[82]\tvalidation-auc:0.993359\ttrain-auc:0.99448\n",
      "[83]\tvalidation-auc:0.993364\ttrain-auc:0.994494\n",
      "[84]\tvalidation-auc:0.993365\ttrain-auc:0.994514\n",
      "[85]\tvalidation-auc:0.993371\ttrain-auc:0.994538\n",
      "[86]\tvalidation-auc:0.993417\ttrain-auc:0.99459\n",
      "[87]\tvalidation-auc:0.993466\ttrain-auc:0.994645\n",
      "[88]\tvalidation-auc:0.99349\ttrain-auc:0.994668\n",
      "[89]\tvalidation-auc:0.993556\ttrain-auc:0.994728\n",
      "[90]\tvalidation-auc:0.993596\ttrain-auc:0.99477\n",
      "[91]\tvalidation-auc:0.993616\ttrain-auc:0.994801\n",
      "[92]\tvalidation-auc:0.99362\ttrain-auc:0.994819\n",
      "[93]\tvalidation-auc:0.99362\ttrain-auc:0.99484\n",
      "[94]\tvalidation-auc:0.993628\ttrain-auc:0.994867\n",
      "[95]\tvalidation-auc:0.993668\ttrain-auc:0.994909\n",
      "[96]\tvalidation-auc:0.993711\ttrain-auc:0.994956\n",
      "[97]\tvalidation-auc:0.993754\ttrain-auc:0.995003\n",
      "[98]\tvalidation-auc:0.993765\ttrain-auc:0.99503\n",
      "[99]\tvalidation-auc:0.993788\ttrain-auc:0.995067\n",
      "CPU times: user 2min 47s, sys: 33 s, total: 3min 20s\n",
      "Wall time: 6 s\n"
     ]
    }
   ],
   "source": [
    "%%time\n",
    "\n",
    "bst = xgb.train(params, dtrain, num_round, evallist)"
   ]
  },
  {
   "cell_type": "markdown",
   "metadata": {},
   "source": [
    "<a id=\"conclusion\"></a>\n",
    "## Conclusion\n",
    "\n",
    "In this notebook, we showed how to work with GPU accelerated XGBoost in RAPIDS.\n",
    "\n",
    "To learn more about RAPIDS, be sure to check out: \n",
    "\n",
    "* [Open Source Website](http://rapids.ai)\n",
    "* [GitHub](https://github.com/rapidsai/)\n",
    "* [Press Release](https://nvidianews.nvidia.com/news/nvidia-introduces-rapids-open-source-gpu-acceleration-platform-for-large-scale-data-analytics-and-machine-learning)\n",
    "* [NVIDIA Blog](https://blogs.nvidia.com/blog/2018/10/10/rapids-data-science-open-source-community/)\n",
    "* [Developer Blog](https://devblogs.nvidia.com/gpu-accelerated-analytics-rapids/)\n",
    "* [NVIDIA Data Science Webpage](https://www.nvidia.com/en-us/deep-learning-ai/solutions/data-science/)"
   ]
  },
  {
   "cell_type": "code",
   "execution_count": null,
   "metadata": {},
   "outputs": [],
   "source": []
  }
 ],
 "metadata": {
  "kernelspec": {
   "display_name": "Python 3",
   "language": "python",
   "name": "python3"
  },
  "language_info": {
   "codemirror_mode": {
    "name": "ipython",
    "version": 3
   },
   "file_extension": ".py",
   "mimetype": "text/x-python",
   "name": "python",
   "nbconvert_exporter": "python",
   "pygments_lexer": "ipython3",
   "version": "3.7.3"
  }
 },
 "nbformat": 4,
 "nbformat_minor": 2
}
