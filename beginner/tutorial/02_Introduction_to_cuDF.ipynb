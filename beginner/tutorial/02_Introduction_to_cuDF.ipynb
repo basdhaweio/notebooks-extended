{
 "cells": [
  {
   "cell_type": "markdown",
   "metadata": {},
   "source": [
    "<a id=\"introduction\"></a>\n",
    "## Introduction to cuDF\n",
    "#### By Paul Hendricks\n",
    "-------\n",
    "\n",
    "In this notebook, we will show how to work with cuDF DataFrames in RAPIDS.\n",
    "\n",
    "**Table of Contents**\n",
    "\n",
    "* [Introduction to cuDF](#introduction)\n",
    "* [Setup](#setup)\n",
    "* [cuDF DataFrame Basics](#dataframes)\n",
    "* [cuDF Series Basics](#series)\n",
    "* [Input/Output](#io)\n",
    "* [cuDF API](#cudfapi)\n",
    "* [Conclusion](#conclusion)"
   ]
  },
  {
   "cell_type": "markdown",
   "metadata": {},
   "source": [
    "<a id=\"setup\"></a>\n",
    "## Setup\n",
    "\n",
    "This notebook was tested using the following Docker containers:\n",
    "\n",
    "* `rapidsai/rapidsai-nightly:0.8-cuda10.0-devel-ubuntu18.04-gcc7-py3.7` from [DockerHub - rapidsai/rapidsai-nightly](https://hub.docker.com/r/rapidsai/rapidsai-nightly)\n",
    "\n",
    "This notebook was run on the NVIDIA Tesla V100 GPU. Please be aware that your system may be different and you may need to modify the code or install packages to run the below examples. \n",
    "\n",
    "If you think you have found a bug or an error, please file an issue here: https://github.com/rapidsai/notebooks/issues\n",
    "\n",
    "Before we begin, let's check out our hardware setup by running the `nvidia-smi` command."
   ]
  },
  {
   "cell_type": "code",
   "execution_count": 1,
   "metadata": {},
   "outputs": [
    {
     "name": "stdout",
     "output_type": "stream",
     "text": [
      "Tue Jun 11 09:16:47 2019       \n",
      "+-----------------------------------------------------------------------------+\n",
      "| NVIDIA-SMI 418.67       Driver Version: 418.67       CUDA Version: 10.1     |\n",
      "|-------------------------------+----------------------+----------------------+\n",
      "| GPU  Name        Persistence-M| Bus-Id        Disp.A | Volatile Uncorr. ECC |\n",
      "| Fan  Temp  Perf  Pwr:Usage/Cap|         Memory-Usage | GPU-Util  Compute M. |\n",
      "|===============================+======================+======================|\n",
      "|   0  Tesla V100-SXM2...  On   | 00000000:06:00.0 Off |                    0 |\n",
      "| N/A   35C    P0    43W / 300W |      0MiB / 16130MiB |      0%      Default |\n",
      "+-------------------------------+----------------------+----------------------+\n",
      "|   1  Tesla V100-SXM2...  On   | 00000000:07:00.0 Off |                    0 |\n",
      "| N/A   35C    P0    41W / 300W |      0MiB / 16130MiB |      0%      Default |\n",
      "+-------------------------------+----------------------+----------------------+\n",
      "|   2  Tesla V100-SXM2...  On   | 00000000:0A:00.0 Off |                    0 |\n",
      "| N/A   36C    P0    43W / 300W |      0MiB / 16130MiB |      0%      Default |\n",
      "+-------------------------------+----------------------+----------------------+\n",
      "|   3  Tesla V100-SXM2...  On   | 00000000:0B:00.0 Off |                    0 |\n",
      "| N/A   33C    P0    42W / 300W |      0MiB / 16130MiB |      0%      Default |\n",
      "+-------------------------------+----------------------+----------------------+\n",
      "|   4  Tesla V100-SXM2...  On   | 00000000:85:00.0 Off |                    0 |\n",
      "| N/A   33C    P0    42W / 300W |      0MiB / 16130MiB |      0%      Default |\n",
      "+-------------------------------+----------------------+----------------------+\n",
      "|   5  Tesla V100-SXM2...  On   | 00000000:86:00.0 Off |                    0 |\n",
      "| N/A   35C    P0    42W / 300W |      0MiB / 16130MiB |      0%      Default |\n",
      "+-------------------------------+----------------------+----------------------+\n",
      "|   6  Tesla V100-SXM2...  On   | 00000000:89:00.0 Off |                    0 |\n",
      "| N/A   36C    P0    42W / 300W |      0MiB / 16130MiB |      0%      Default |\n",
      "+-------------------------------+----------------------+----------------------+\n",
      "|   7  Tesla V100-SXM2...  On   | 00000000:8A:00.0 Off |                    0 |\n",
      "| N/A   33C    P0    41W / 300W |      0MiB / 16130MiB |      0%      Default |\n",
      "+-------------------------------+----------------------+----------------------+\n",
      "                                                                               \n",
      "+-----------------------------------------------------------------------------+\n",
      "| Processes:                                                       GPU Memory |\n",
      "|  GPU       PID   Type   Process name                             Usage      |\n",
      "|=============================================================================|\n",
      "|  No running processes found                                                 |\n",
      "+-----------------------------------------------------------------------------+\n"
     ]
    }
   ],
   "source": [
    "!nvidia-smi"
   ]
  },
  {
   "cell_type": "markdown",
   "metadata": {},
   "source": [
    "Next, let's see what CUDA version we have:"
   ]
  },
  {
   "cell_type": "code",
   "execution_count": 2,
   "metadata": {},
   "outputs": [
    {
     "name": "stdout",
     "output_type": "stream",
     "text": [
      "nvcc: NVIDIA (R) Cuda compiler driver\r\n",
      "Copyright (c) 2005-2018 NVIDIA Corporation\r\n",
      "Built on Sat_Aug_25_21:08:01_CDT_2018\r\n",
      "Cuda compilation tools, release 10.0, V10.0.130\r\n"
     ]
    }
   ],
   "source": [
    "!nvcc --version"
   ]
  },
  {
   "cell_type": "markdown",
   "metadata": {},
   "source": [
    "<a id=\"dataframes\"></a>\n",
    "## cuDF DataFrame Basics\n",
    "\n",
    "As we showed in the previous tutorial, cuDF DataFrames are a tabular structure of data that reside on the GPU. We interface with these cuDF DataFrames in the same way we interface with Pandas DataFrames that reside on the CPU - with a few deviations.\n",
    "\n",
    "In the next several sections, we'll show how to create and manipulate cuDF DataFrames. For more information on using cuDF DataFrames, check out the documentation: https://rapidsai.github.io/projects/cudf/en/latest/index.html"
   ]
  },
  {
   "cell_type": "markdown",
   "metadata": {},
   "source": [
    "#### Creating a cudf DataFrame using lists\n",
    "\n",
    "There are several ways to create a cuDF DataFrame. The easiest of these is to instantiate an empty cuDF DataFrame and then use Python list objects or NumPy arrays to create columns. Below, we import the cuDF library and create an empty cuDF DataFrame."
   ]
  },
  {
   "cell_type": "code",
   "execution_count": 3,
   "metadata": {},
   "outputs": [
    {
     "name": "stdout",
     "output_type": "stream",
     "text": [
      "cuDF Version: 0.7.2+0.g3ebd286.dirty\n",
      "Empty DataFrame\n",
      "Columns: []\n",
      "Index: []\n"
     ]
    }
   ],
   "source": [
    "import cudf; print('cuDF Version:', cudf.__version__)\n",
    "\n",
    "\n",
    "df = cudf.DataFrame()\n",
    "print(df)"
   ]
  },
  {
   "cell_type": "markdown",
   "metadata": {},
   "source": [
    "Next, we can create two columns named `key` and `value` by using the bracket notation with the cuDF DataFrame and storing either a list of Python values or a NumPy array into that column."
   ]
  },
  {
   "cell_type": "code",
   "execution_count": 4,
   "metadata": {},
   "outputs": [
    {
     "name": "stdout",
     "output_type": "stream",
     "text": [
      "NumPy Version: 1.16.2\n",
      "   key  value\n",
      "0    0     10\n",
      "1    1     11\n",
      "2    2     12\n",
      "3    3     13\n",
      "4    4     14\n"
     ]
    }
   ],
   "source": [
    "import numpy as np; print('NumPy Version:', np.__version__)\n",
    "\n",
    "\n",
    "# here we create two columns named \"key\" and \"value\"\n",
    "df['key'] = [0, 1, 2, 3, 4]\n",
    "df['value'] = np.arange(10, 15)\n",
    "print(df)"
   ]
  },
  {
   "cell_type": "markdown",
   "metadata": {},
   "source": [
    "#### Creating a cudf DataFrame using a list of tuples or a dictionary\n",
    "\n",
    "Another way we can create a cuDF DataFrame is by providing a mapping of column names to column values, either via a list of tuples or by using a dictionary. In the below examples, we create a list of two-value tuples; the first value is the name of the column - for example, `id` or `timestamp` - and the second value is a list of Python objects or Numpy arrays. Note that we don't have to constrain the data stored in our cuDF DataFrames to common data types like integers or floats - we can use more exotic data types such as datetimes or strings. We'll investigate how such data types behave on the GPU a bit later."
   ]
  },
  {
   "cell_type": "code",
   "execution_count": 5,
   "metadata": {},
   "outputs": [],
   "source": [
    "from datetime import datetime, timedelta\n",
    "\n",
    "\n",
    "ids = np.arange(5)\n",
    "t0 = datetime.strptime('2018-10-07 12:00:00', '%Y-%m-%d %H:%M:%S')\n",
    "timestamps = [(t0+ timedelta(seconds=x)) for x in range(5)]\n",
    "timestamps_np = np.array(timestamps, dtype='datetime64')"
   ]
  },
  {
   "cell_type": "code",
   "execution_count": 6,
   "metadata": {},
   "outputs": [
    {
     "name": "stdout",
     "output_type": "stream",
     "text": [
      "   id               timestamp\n",
      "0   0 2018-10-07T12:00:00.000\n",
      "1   1 2018-10-07T12:00:01.000\n",
      "2   2 2018-10-07T12:00:02.000\n",
      "3   3 2018-10-07T12:00:03.000\n",
      "4   4 2018-10-07T12:00:04.000\n"
     ]
    }
   ],
   "source": [
    "df = cudf.DataFrame([('id', ids), ('timestamp', timestamps_np)])\n",
    "print(df)"
   ]
  },
  {
   "cell_type": "markdown",
   "metadata": {},
   "source": [
    "Alternatively, we can create a dictonary of key-value pairs, where each key in the dictionary represents a column name and each value associated with the key represents the values that belong in that column."
   ]
  },
  {
   "cell_type": "code",
   "execution_count": 7,
   "metadata": {},
   "outputs": [
    {
     "name": "stdout",
     "output_type": "stream",
     "text": [
      "   id               timestamp\n",
      "0   0 2018-10-07T12:00:00.000\n",
      "1   1 2018-10-07T12:00:01.000\n",
      "2   2 2018-10-07T12:00:02.000\n",
      "3   3 2018-10-07T12:00:03.000\n",
      "4   4 2018-10-07T12:00:04.000\n"
     ]
    }
   ],
   "source": [
    "df = cudf.DataFrame({'id': ids, 'timestamp': timestamps_np})\n",
    "print(df)"
   ]
  },
  {
   "cell_type": "markdown",
   "metadata": {},
   "source": [
    "#### Creating a cudf DataFrame from a Pandas DataFrame\n",
    "\n",
    "Pandas DataFrames are a first class citizen within cuDF - this means that we can create a cuDF DataFrame from a Pandas DataFrame and vice versa."
   ]
  },
  {
   "cell_type": "code",
   "execution_count": 8,
   "metadata": {},
   "outputs": [
    {
     "name": "stdout",
     "output_type": "stream",
     "text": [
      "Pandas Version: 0.23.4\n",
      "     a    b\n",
      "0    0  0.0\n",
      "1    1  0.1\n",
      "2    2  0.2\n",
      "3    3  NaN\n",
      "4    4  0.4\n",
      "5    5  0.5\n",
      "6    6  0.6\n",
      "7    7  0.7\n",
      "8    8  0.8\n",
      "9    9  0.9\n",
      "10  10  1.0\n"
     ]
    }
   ],
   "source": [
    "import pandas as pd; print('Pandas Version:', pd.__version__)\n",
    "\n",
    "\n",
    "pandas_df = pd.DataFrame({'a': [0, 1, 2, 3, 4, 5, 6, 7, 8, 9, 10],\n",
    "                          'b': [0.0, 0.1, 0.2, None, 0.4, 0.5, 0.6, 0.7, 0.8, 0.9, 1.0]})\n",
    "print(pandas_df)"
   ]
  },
  {
   "cell_type": "markdown",
   "metadata": {},
   "source": [
    "We can use the `cudf.from_pandas` or `cudf.DataFrame.from_pandas` functions to create a cuDF DataFrame from a Pandas DataFrame."
   ]
  },
  {
   "cell_type": "code",
   "execution_count": 9,
   "metadata": {},
   "outputs": [
    {
     "name": "stdout",
     "output_type": "stream",
     "text": [
      "   a    b\n",
      "0  0  0.0\n",
      "1  1  0.1\n",
      "2  2  0.2\n",
      "3  3     \n",
      "4  4  0.4\n",
      "5  5  0.5\n",
      "6  6  0.6\n",
      "7  7  0.7\n",
      "8  8  0.8\n",
      "9  9  0.9\n",
      "[1 more rows]\n"
     ]
    }
   ],
   "source": [
    "df = cudf.from_pandas(pandas_df)\n",
    "# df = cudf.DataFrame.from_pandas(pandas_df)  # alternative\n",
    "print(df)"
   ]
  },
  {
   "cell_type": "markdown",
   "metadata": {},
   "source": [
    "#### Creating a cuDF DataFrame from cuDF Series (coming soon!)"
   ]
  },
  {
   "cell_type": "markdown",
   "metadata": {},
   "source": [
    "#### Inspecting a cuDF DataFrame\n",
    "\n",
    "There are several ways to inspect a cuDF DataFrame. The first method is to enter the cuDF DataFrame directly into the REPL. This shows us information about the type of the object, and metadata such as the number of rows or columns."
   ]
  },
  {
   "cell_type": "code",
   "execution_count": 10,
   "metadata": {},
   "outputs": [],
   "source": [
    "df = cudf.DataFrame({'a': np.arange(0, 100), 'b': np.arange(100, 0, -1)})"
   ]
  },
  {
   "cell_type": "code",
   "execution_count": 11,
   "metadata": {},
   "outputs": [
    {
     "data": {
      "text/plain": [
       "<cudf.DataFrame ncols=2 nrows=100 >"
      ]
     },
     "execution_count": 11,
     "metadata": {},
     "output_type": "execute_result"
    }
   ],
   "source": [
    "df"
   ]
  },
  {
   "cell_type": "markdown",
   "metadata": {},
   "source": [
    "A second way to inspect a cuDF DataFrame is to wrap the object in a Python `print` function. This results in showing the rows and columns of the dataframe."
   ]
  },
  {
   "cell_type": "code",
   "execution_count": 12,
   "metadata": {},
   "outputs": [
    {
     "name": "stdout",
     "output_type": "stream",
     "text": [
      "   a    b\n",
      "0  0  100\n",
      "1  1   99\n",
      "2  2   98\n",
      "3  3   97\n",
      "4  4   96\n",
      "5  5   95\n",
      "6  6   94\n",
      "7  7   93\n",
      "8  8   92\n",
      "9  9   91\n",
      "[90 more rows]\n"
     ]
    }
   ],
   "source": [
    "print(df)"
   ]
  },
  {
   "cell_type": "markdown",
   "metadata": {},
   "source": [
    "For very large dataframes, we often want to see the first couple rows. We can use the `head` method of a cuDF DataFrame to view the first N rows."
   ]
  },
  {
   "cell_type": "code",
   "execution_count": 13,
   "metadata": {},
   "outputs": [
    {
     "name": "stdout",
     "output_type": "stream",
     "text": [
      "   a    b\n",
      "0  0  100\n",
      "1  1   99\n",
      "2  2   98\n",
      "3  3   97\n",
      "4  4   96\n"
     ]
    }
   ],
   "source": [
    "print(df.head())"
   ]
  },
  {
   "cell_type": "markdown",
   "metadata": {},
   "source": [
    "#### Columns\n",
    "\n",
    "cuDF DataFrames store metadata such as information about columns or data types. We can access the columns of a cuDF DataFrame using the `.columns` attribute."
   ]
  },
  {
   "cell_type": "code",
   "execution_count": 14,
   "metadata": {},
   "outputs": [
    {
     "name": "stdout",
     "output_type": "stream",
     "text": [
      "Index(['a', 'b'], dtype='object')\n"
     ]
    }
   ],
   "source": [
    "print(df.columns)"
   ]
  },
  {
   "cell_type": "markdown",
   "metadata": {},
   "source": [
    "We can modify the columns of a cuDF DataFrame by modifying the `columns` attribute. We can do this by setting that attribute equal to a list of strings representing the new columns."
   ]
  },
  {
   "cell_type": "code",
   "execution_count": 15,
   "metadata": {},
   "outputs": [
    {
     "name": "stdout",
     "output_type": "stream",
     "text": [
      "Index(['c', 'd'], dtype='object')\n"
     ]
    }
   ],
   "source": [
    "df.columns = ['c', 'd']\n",
    "print(df.columns)"
   ]
  },
  {
   "cell_type": "markdown",
   "metadata": {},
   "source": [
    "#### Data Types\n",
    "\n",
    "We can also inspect the data types of the columns of a cuDF DataFrame using the `dtypes` attribute."
   ]
  },
  {
   "cell_type": "code",
   "execution_count": 16,
   "metadata": {},
   "outputs": [
    {
     "name": "stdout",
     "output_type": "stream",
     "text": [
      "c    int64\n",
      "d    int64\n",
      "dtype: object\n"
     ]
    }
   ],
   "source": [
    "print(df.dtypes)"
   ]
  },
  {
   "cell_type": "markdown",
   "metadata": {},
   "source": [
    "We can modify the data types of the columns of a cuDF DataFrame by passing in a cuDF Series with a modified data type. Be warned that silent errors may be introduced from nonsensical type conversations - for example, changing a float to an integer or vice versa."
   ]
  },
  {
   "cell_type": "code",
   "execution_count": 17,
   "metadata": {},
   "outputs": [
    {
     "name": "stdout",
     "output_type": "stream",
     "text": [
      "c    float32\n",
      "d      int32\n",
      "dtype: object\n"
     ]
    }
   ],
   "source": [
    "df['c'] = df['c'].astype(np.float32)\n",
    "df['d'] = df['d'].astype(np.int32)\n",
    "print(df.dtypes)"
   ]
  },
  {
   "cell_type": "markdown",
   "metadata": {},
   "source": [
    "#### Series\n",
    "\n",
    "cuDF DataFrames are composed of rows and columns. Each column is represented using an object of type `cudf.dataframe.series.Series`. For example, if we subset a cuDF DataFrame using just one column we will be returned an object of type `cudf.dataframe.series.Series`."
   ]
  },
  {
   "cell_type": "code",
   "execution_count": 18,
   "metadata": {},
   "outputs": [
    {
     "name": "stdout",
     "output_type": "stream",
     "text": [
      "<class 'cudf.dataframe.series.Series'>\n",
      "0    0.0\n",
      "1    1.0\n",
      "2    2.0\n",
      "3    3.0\n",
      "4    4.0\n",
      "5    5.0\n",
      "6    6.0\n",
      "7    7.0\n",
      "8    8.0\n",
      "9    9.0\n",
      "[90 more rows]\n",
      "Name: c, dtype: float32\n"
     ]
    }
   ],
   "source": [
    "print(type(df['c']))\n",
    "print(df['c'])"
   ]
  },
  {
   "cell_type": "markdown",
   "metadata": {},
   "source": [
    "#### Index\n"
   ]
  },
  {
   "cell_type": "code",
   "execution_count": 19,
   "metadata": {},
   "outputs": [
    {
     "data": {
      "text/plain": [
       "RangeIndex(start=0, stop=100)"
      ]
     },
     "execution_count": 19,
     "metadata": {},
     "output_type": "execute_result"
    }
   ],
   "source": [
    "df.index"
   ]
  },
  {
   "cell_type": "markdown",
   "metadata": {},
   "source": [
    "#### Converting a cudf DataFrame to a Pandas DataFrame\n",
    "\n",
    "We can convert a cuDF DataFrame back to a Pandas DataFrame using the `to_pandas` method."
   ]
  },
  {
   "cell_type": "code",
   "execution_count": 20,
   "metadata": {},
   "outputs": [
    {
     "name": "stdout",
     "output_type": "stream",
     "text": [
      "<class 'pandas.core.frame.DataFrame'>\n"
     ]
    }
   ],
   "source": [
    "pandas_df = df.to_pandas()\n",
    "print(type(pandas_df))"
   ]
  },
  {
   "cell_type": "markdown",
   "metadata": {},
   "source": [
    "#### Converting a cudf DataFrame to a NumPy Array\n",
    "\n",
    "Often we want to work with NumPy arrays. We can convert a cuDF DataFrame to a NumPy array by first converting it to a Pandas DataFrame using the `to_pandas` method followed by accessing the `values` attribute of the Pandas DataFrame."
   ]
  },
  {
   "cell_type": "code",
   "execution_count": 21,
   "metadata": {},
   "outputs": [
    {
     "name": "stdout",
     "output_type": "stream",
     "text": [
      "<class 'numpy.ndarray'>\n"
     ]
    }
   ],
   "source": [
    "numpy_array = df.to_pandas().values\n",
    "print(type(numpy_array))"
   ]
  },
  {
   "cell_type": "markdown",
   "metadata": {},
   "source": [
    "#### Converting a cudf DataFrame to Other Data Formats\n",
    "\n",
    "We can also convert a cuDF DataFrame to other data formats. \n",
    "\n",
    "For more information, see the documentation: https://docs.rapids.ai/api/cudf/stable/"
   ]
  },
  {
   "cell_type": "markdown",
   "metadata": {},
   "source": [
    "<a id=\"series\"></a>\n",
    "## cuDF Series Basics (coming soon!)\n",
    "\n",
    "To be edited."
   ]
  },
  {
   "cell_type": "markdown",
   "metadata": {},
   "source": [
    "<a id=\"io\"></a>\n",
    "## Input/Output\n",
    "\n",
    "Before we process data and use it in machine learning models, we need to be able to load it into memory and write it after we're done using it. There are several ways to do this using cuDF."
   ]
  },
  {
   "cell_type": "markdown",
   "metadata": {},
   "source": [
    "#### Writing and Loading CSV Files\n",
    "\n",
    "At this time, there is no direct way to use to cuDF to write directly to CSV. However, we can conver the cuDF DataFrame to a Pandas DataFrame and then write it directly to a CSV."
   ]
  },
  {
   "cell_type": "code",
   "execution_count": 22,
   "metadata": {},
   "outputs": [],
   "source": [
    "df.to_pandas().to_csv('./dataset.csv', index=False)"
   ]
  },
  {
   "cell_type": "markdown",
   "metadata": {},
   "source": [
    "Perhaps one of the most common ways to create cuDF DataFrames is by loading a table that is stored as a file on disk. cuDF provides a lot of functionality for reading in a variety of different data formats. Below, we show how easy it is to read in a CSV file:"
   ]
  },
  {
   "cell_type": "code",
   "execution_count": 23,
   "metadata": {},
   "outputs": [
    {
     "name": "stdout",
     "output_type": "stream",
     "text": [
      "     c    d\n",
      "0  0.0  100\n",
      "1  1.0   99\n",
      "2  2.0   98\n",
      "3  3.0   97\n",
      "4  4.0   96\n",
      "5  5.0   95\n",
      "6  6.0   94\n",
      "7  7.0   93\n",
      "8  8.0   92\n",
      "9  9.0   91\n",
      "[90 more rows]\n"
     ]
    }
   ],
   "source": [
    "df = cudf.read_csv('./dataset.csv')\n",
    "print(df)"
   ]
  },
  {
   "cell_type": "markdown",
   "metadata": {},
   "source": [
    "CSV files come in many flavors and cuDF tries to be as flexible as possible, mirroring the Pandas API wherever possible. For more information on possible parameters for working with files, see the cuDF IO documentation: \n",
    "\n",
    "https://rapidsai.github.io/projects/cudf/en/latest/api.html#cudf.io.csv.read_csv"
   ]
  },
  {
   "cell_type": "markdown",
   "metadata": {},
   "source": [
    "<a id=\"cudfapi\"></a>\n",
    "## cuDF API\n",
    "\n",
    "The cuDF API is pleasantly simple and mirrors the Pandas API as closely as possible. In this section, we will explore the cuDF API and show how to perform common data manipulation operations."
   ]
  },
  {
   "cell_type": "markdown",
   "metadata": {},
   "source": [
    "#### Selecting Rows or Columns\n",
    "\n",
    "We can select rows from a cuDF DataFrame using slicing syntax. "
   ]
  },
  {
   "cell_type": "code",
   "execution_count": 24,
   "metadata": {},
   "outputs": [],
   "source": [
    "df = cudf.DataFrame({'a': np.arange(0, 100).astype(np.float32), \n",
    "                     'b': np.arange(100, 0, -1).astype(np.float32)})"
   ]
  },
  {
   "cell_type": "code",
   "execution_count": 25,
   "metadata": {},
   "outputs": [
    {
     "name": "stdout",
     "output_type": "stream",
     "text": [
      "     a      b\n",
      "0  0.0  100.0\n",
      "1  1.0   99.0\n",
      "2  2.0   98.0\n",
      "3  3.0   97.0\n",
      "4  4.0   96.0\n"
     ]
    }
   ],
   "source": [
    "print(df[0:5])"
   ]
  },
  {
   "cell_type": "markdown",
   "metadata": {},
   "source": [
    "There are several ways to select a column from a cuDF DataFrame."
   ]
  },
  {
   "cell_type": "code",
   "execution_count": 26,
   "metadata": {},
   "outputs": [
    {
     "name": "stdout",
     "output_type": "stream",
     "text": [
      "0    0.0\n",
      "1    1.0\n",
      "2    2.0\n",
      "3    3.0\n",
      "4    4.0\n",
      "5    5.0\n",
      "6    6.0\n",
      "7    7.0\n",
      "8    8.0\n",
      "9    9.0\n",
      "[90 more rows]\n",
      "Name: a, dtype: float32\n"
     ]
    }
   ],
   "source": [
    "print(df['a'])\n",
    "# print(df.a)  # alternative"
   ]
  },
  {
   "cell_type": "markdown",
   "metadata": {},
   "source": [
    "We can also select multiple columns by passing in a list of column names."
   ]
  },
  {
   "cell_type": "code",
   "execution_count": 27,
   "metadata": {},
   "outputs": [
    {
     "name": "stdout",
     "output_type": "stream",
     "text": [
      "     a      b\n",
      "0  0.0  100.0\n",
      "1  1.0   99.0\n",
      "2  2.0   98.0\n",
      "3  3.0   97.0\n",
      "4  4.0   96.0\n",
      "5  5.0   95.0\n",
      "6  6.0   94.0\n",
      "7  7.0   93.0\n",
      "8  8.0   92.0\n",
      "9  9.0   91.0\n",
      "[90 more rows]\n"
     ]
    }
   ],
   "source": [
    "print(df[['a', 'b']])"
   ]
  },
  {
   "cell_type": "markdown",
   "metadata": {},
   "source": [
    "We can select specific rows and columns using the slicing syntax as well as passing in a list of column names."
   ]
  },
  {
   "cell_type": "code",
   "execution_count": 28,
   "metadata": {},
   "outputs": [
    {
     "name": "stdout",
     "output_type": "stream",
     "text": [
      "     a\n",
      "0  0.0\n",
      "1  1.0\n",
      "2  2.0\n",
      "3  3.0\n",
      "4  4.0\n",
      "5  5.0\n"
     ]
    }
   ],
   "source": [
    "print(df.loc[0:5, ['a']])\n",
    "# print(df.loc[0:5, ['a', 'b']])  # to select multiple columns, pass in multiple column names"
   ]
  },
  {
   "cell_type": "markdown",
   "metadata": {},
   "source": [
    "#### Dropping Columns or Rows (coming soon!)"
   ]
  },
  {
   "cell_type": "code",
   "execution_count": 29,
   "metadata": {},
   "outputs": [],
   "source": [
    "df = cudf.DataFrame({'a': np.arange(0, 100).astype(np.float32), \n",
    "                     'b': np.arange(100, 0, -1).astype(np.float32), \n",
    "                     'c': np.arange(100, 200).astype(np.float32)})"
   ]
  },
  {
   "cell_type": "code",
   "execution_count": 30,
   "metadata": {},
   "outputs": [],
   "source": [
    "df.drop_column('a')"
   ]
  },
  {
   "cell_type": "code",
   "execution_count": 31,
   "metadata": {},
   "outputs": [
    {
     "name": "stdout",
     "output_type": "stream",
     "text": [
      "       b      c\n",
      "0  100.0  100.0\n",
      "1   99.0  101.0\n",
      "2   98.0  102.0\n",
      "3   97.0  103.0\n",
      "4   96.0  104.0\n",
      "5   95.0  105.0\n",
      "6   94.0  106.0\n",
      "7   93.0  107.0\n",
      "8   92.0  108.0\n",
      "9   91.0  109.0\n",
      "[90 more rows]\n"
     ]
    }
   ],
   "source": [
    "print(df)"
   ]
  },
  {
   "cell_type": "code",
   "execution_count": 32,
   "metadata": {},
   "outputs": [],
   "source": [
    "df = cudf.DataFrame({'a': np.arange(0, 100).astype(np.float32), \n",
    "                     'b': np.arange(100, 0, -1).astype(np.float32), \n",
    "                     'c': np.arange(100, 200).astype(np.float32)})"
   ]
  },
  {
   "cell_type": "code",
   "execution_count": 33,
   "metadata": {},
   "outputs": [],
   "source": [
    "new_df = df.drop('a')"
   ]
  },
  {
   "cell_type": "code",
   "execution_count": 34,
   "metadata": {},
   "outputs": [
    {
     "name": "stdout",
     "output_type": "stream",
     "text": [
      "       b      c\n",
      "0  100.0  100.0\n",
      "1   99.0  101.0\n",
      "2   98.0  102.0\n",
      "3   97.0  103.0\n",
      "4   96.0  104.0\n",
      "5   95.0  105.0\n",
      "6   94.0  106.0\n",
      "7   93.0  107.0\n",
      "8   92.0  108.0\n",
      "9   91.0  109.0\n",
      "[90 more rows]\n"
     ]
    }
   ],
   "source": [
    "print(new_df)"
   ]
  },
  {
   "cell_type": "code",
   "execution_count": 35,
   "metadata": {},
   "outputs": [],
   "source": [
    "df = cudf.DataFrame({'a': np.arange(0, 100).astype(np.float32), \n",
    "                     'b': np.arange(100, 0, -1).astype(np.float32), \n",
    "                     'c': np.arange(100, 200).astype(np.float32)})"
   ]
  },
  {
   "cell_type": "code",
   "execution_count": 36,
   "metadata": {},
   "outputs": [],
   "source": [
    "new_df = df.drop(['a', 'b'])"
   ]
  },
  {
   "cell_type": "code",
   "execution_count": 37,
   "metadata": {},
   "outputs": [
    {
     "name": "stdout",
     "output_type": "stream",
     "text": [
      "       c\n",
      "0  100.0\n",
      "1  101.0\n",
      "2  102.0\n",
      "3  103.0\n",
      "4  104.0\n",
      "5  105.0\n",
      "6  106.0\n",
      "7  107.0\n",
      "8  108.0\n",
      "9  109.0\n",
      "[90 more rows]\n"
     ]
    }
   ],
   "source": [
    "print(new_df)"
   ]
  },
  {
   "cell_type": "code",
   "execution_count": 38,
   "metadata": {},
   "outputs": [],
   "source": [
    "df = df[0:50]"
   ]
  },
  {
   "cell_type": "markdown",
   "metadata": {},
   "source": [
    "#### Defining New Columns (coming soon!)"
   ]
  },
  {
   "cell_type": "code",
   "execution_count": 39,
   "metadata": {},
   "outputs": [],
   "source": [
    "df = cudf.DataFrame({'a': np.arange(0, 100).astype(np.float32), \n",
    "                     'b': np.arange(100, 0, -1).astype(np.float32), \n",
    "                     'c': np.arange(100, 200).astype(np.float32)})"
   ]
  },
  {
   "cell_type": "code",
   "execution_count": 40,
   "metadata": {},
   "outputs": [],
   "source": [
    "df['d'] = np.arange(200, 300).astype(np.float32)"
   ]
  },
  {
   "cell_type": "code",
   "execution_count": 41,
   "metadata": {},
   "outputs": [],
   "source": [
    "data = np.arange(300, 400).astype(np.float32)\n",
    "df.add_column('e', data)"
   ]
  },
  {
   "cell_type": "code",
   "execution_count": 42,
   "metadata": {},
   "outputs": [
    {
     "name": "stdout",
     "output_type": "stream",
     "text": [
      "     a      b      c      d      e\n",
      "0  0.0  100.0  100.0  200.0  300.0\n",
      "1  1.0   99.0  101.0  201.0  301.0\n",
      "2  2.0   98.0  102.0  202.0  302.0\n",
      "3  3.0   97.0  103.0  203.0  303.0\n",
      "4  4.0   96.0  104.0  204.0  304.0\n",
      "5  5.0   95.0  105.0  205.0  305.0\n",
      "6  6.0   94.0  106.0  206.0  306.0\n",
      "7  7.0   93.0  107.0  207.0  307.0\n",
      "8  8.0   92.0  108.0  208.0  308.0\n",
      "9  9.0   91.0  109.0  209.0  309.0\n",
      "[90 more rows]\n"
     ]
    }
   ],
   "source": [
    "print(df)"
   ]
  },
  {
   "cell_type": "markdown",
   "metadata": {},
   "source": [
    "#### Missing Data (coming soon!)"
   ]
  },
  {
   "cell_type": "code",
   "execution_count": 43,
   "metadata": {},
   "outputs": [
    {
     "name": "stdout",
     "output_type": "stream",
     "text": [
      "   a    b    c\n",
      "0  0  0.0  0.0\n",
      "1     0.1  0.1\n",
      "2  2  0.2     \n",
      "3  3          \n",
      "4  4  0.4  0.4\n",
      "5  5  0.5  0.5\n",
      "6  6  0.6     \n",
      "7  7  0.7  0.7\n",
      "8  8  0.8  0.8\n",
      "9     0.9  0.9\n",
      "[1 more rows]\n"
     ]
    }
   ],
   "source": [
    "df = cudf.DataFrame({'a': [0, None, 2, 3, 4, 5, 6, 7, 8, None, 10],\n",
    "                     'b': [0.0, 0.1, 0.2, None, 0.4, 0.5, 0.6, 0.7, 0.8, 0.9, 1.0], \n",
    "                     'c': [0.0, 0.1, None, None, 0.4, 0.5, None, 0.7, 0.8, 0.9, 1.0]})\n",
    "print(df)"
   ]
  },
  {
   "cell_type": "code",
   "execution_count": 44,
   "metadata": {},
   "outputs": [],
   "source": [
    "df['c'] = df['c'].fillna(999)"
   ]
  },
  {
   "cell_type": "code",
   "execution_count": 45,
   "metadata": {},
   "outputs": [
    {
     "name": "stdout",
     "output_type": "stream",
     "text": [
      "   a    b      c\n",
      "0  0  0.0    0.0\n",
      "1     0.1    0.1\n",
      "2  2  0.2  999.0\n",
      "3  3       999.0\n",
      "4  4  0.4    0.4\n",
      "5  5  0.5    0.5\n",
      "6  6  0.6  999.0\n",
      "7  7  0.7    0.7\n",
      "8  8  0.8    0.8\n",
      "9     0.9    0.9\n",
      "[1 more rows]\n"
     ]
    }
   ],
   "source": [
    "print(df)"
   ]
  },
  {
   "cell_type": "code",
   "execution_count": 46,
   "metadata": {},
   "outputs": [],
   "source": [
    "new_df = df.fillna(-1)"
   ]
  },
  {
   "cell_type": "code",
   "execution_count": 47,
   "metadata": {},
   "outputs": [
    {
     "name": "stdout",
     "output_type": "stream",
     "text": [
      "    a     b      c\n",
      "0   0   0.0    0.0\n",
      "1  -1   0.1    0.1\n",
      "2   2   0.2  999.0\n",
      "3   3  -1.0  999.0\n",
      "4   4   0.4    0.4\n",
      "5   5   0.5    0.5\n",
      "6   6   0.6  999.0\n",
      "7   7   0.7    0.7\n",
      "8   8   0.8    0.8\n",
      "9  -1   0.9    0.9\n",
      "[1 more rows]\n"
     ]
    }
   ],
   "source": [
    "print(new_df)"
   ]
  },
  {
   "cell_type": "markdown",
   "metadata": {},
   "source": [
    "#### Boolean Indexing (coming soon!)"
   ]
  },
  {
   "cell_type": "code",
   "execution_count": 48,
   "metadata": {},
   "outputs": [],
   "source": [
    "df = cudf.DataFrame({'a': np.repeat([0, 1, 2, 3], 25).astype(np.int32), \n",
    "                     'b': np.random.randint(2, size=100).astype(np.int32), \n",
    "                     'c': np.arange(0, 100).astype(np.int32), \n",
    "                     'd': np.arange(100, 0, -1).astype(np.int32)})"
   ]
  },
  {
   "cell_type": "code",
   "execution_count": 49,
   "metadata": {},
   "outputs": [
    {
     "data": {
      "text/plain": [
       "<cudf.DataFrame ncols=4 nrows=25 >"
      ]
     },
     "execution_count": 49,
     "metadata": {},
     "output_type": "execute_result"
    }
   ],
   "source": [
    "mask = df['a'] == 3\n",
    "df[mask]"
   ]
  },
  {
   "cell_type": "markdown",
   "metadata": {},
   "source": [
    "#### Sorting Data (coming soon!)"
   ]
  },
  {
   "cell_type": "code",
   "execution_count": 50,
   "metadata": {},
   "outputs": [
    {
     "name": "stdout",
     "output_type": "stream",
     "text": [
      "   a  b  c    d\n",
      "0  0  0  0  100\n",
      "1  0  1  1   99\n",
      "2  0  1  2   98\n",
      "3  0  0  3   97\n",
      "4  0  1  4   96\n"
     ]
    }
   ],
   "source": [
    "df = cudf.DataFrame({'a': np.repeat([0, 1, 2, 3], 25).astype(np.int32), \n",
    "                     'b': np.random.randint(2, size=100).astype(np.int32), \n",
    "                     'c': np.arange(0, 100).astype(np.int32), \n",
    "                     'd': np.arange(100, 0, -1).astype(np.int32)})\n",
    "print(df.head())"
   ]
  },
  {
   "cell_type": "code",
   "execution_count": 51,
   "metadata": {},
   "outputs": [
    {
     "name": "stdout",
     "output_type": "stream",
     "text": [
      "   a  b   c  d\n",
      "99  3  0  99  1\n",
      "98  3  0  98  2\n",
      "97  3  1  97  3\n",
      "96  3  0  96  4\n",
      "95  3  0  95  5\n"
     ]
    }
   ],
   "source": [
    "print(df.sort_values('d').head())"
   ]
  },
  {
   "cell_type": "code",
   "execution_count": 52,
   "metadata": {},
   "outputs": [
    {
     "name": "stdout",
     "output_type": "stream",
     "text": [
      "   a  b   c  d\n",
      "99  3  0  99  1\n",
      "98  3  0  98  2\n",
      "97  3  1  97  3\n",
      "96  3  0  96  4\n",
      "95  3  0  95  5\n"
     ]
    }
   ],
   "source": [
    "print(df.sort_values('c', ascending=False).head())"
   ]
  },
  {
   "cell_type": "code",
   "execution_count": 53,
   "metadata": {},
   "outputs": [
    {
     "name": "stdout",
     "output_type": "stream",
     "text": [
      "   a  b  c    d\n",
      "0  0  0  0  100\n",
      "3  0  0  3   97\n",
      "5  0  0  5   95\n",
      "6  0  0  6   94\n",
      "8  0  0  8   92\n"
     ]
    }
   ],
   "source": [
    "print(df.sort_values(['a', 'b']).head())"
   ]
  },
  {
   "cell_type": "code",
   "execution_count": 54,
   "metadata": {},
   "outputs": [
    {
     "name": "stdout",
     "output_type": "stream",
     "text": [
      "   a  b   c   d\n",
      "75  3  1  75  25\n",
      "80  3  1  80  20\n",
      "81  3  1  81  19\n",
      "82  3  1  82  18\n",
      "84  3  1  84  16\n"
     ]
    }
   ],
   "source": [
    "print(df.sort_values(['a', 'b'], ascending=False).head())"
   ]
  },
  {
   "cell_type": "code",
   "execution_count": 55,
   "metadata": {},
   "outputs": [
    {
     "name": "stderr",
     "output_type": "stream",
     "text": [
      "WARNING:When using a sequence of booleans for `ascending`, `na_position` flag is not yet supported and defaults to treating nulls as greater than all numbers\n"
     ]
    },
    {
     "name": "stdout",
     "output_type": "stream",
     "text": [
      "   a  b   c   d\n",
      "76  3  0  76  24\n",
      "77  3  0  77  23\n",
      "78  3  0  78  22\n",
      "79  3  0  79  21\n",
      "83  3  0  83  17\n"
     ]
    }
   ],
   "source": [
    "print(df.sort_values(['a', 'b'], ascending=[False, True]).head())"
   ]
  },
  {
   "cell_type": "markdown",
   "metadata": {},
   "source": [
    "#### Statistical Operations (coming soon!)"
   ]
  },
  {
   "cell_type": "code",
   "execution_count": 56,
   "metadata": {},
   "outputs": [],
   "source": [
    "df = cudf.DataFrame({'a': np.repeat([0, 1, 2, 3], 25).astype(np.int32), \n",
    "                     'b': np.random.randint(2, size=100).astype(np.int32), \n",
    "                     'c': np.arange(0, 100).astype(np.int32), \n",
    "                     'd': np.arange(100, 0, -1).astype(np.int32)})"
   ]
  },
  {
   "cell_type": "code",
   "execution_count": 57,
   "metadata": {},
   "outputs": [
    {
     "data": {
      "text/plain": [
       "150"
      ]
     },
     "execution_count": 57,
     "metadata": {},
     "output_type": "execute_result"
    }
   ],
   "source": [
    "df['a'].sum()"
   ]
  },
  {
   "cell_type": "code",
   "execution_count": 58,
   "metadata": {},
   "outputs": [
    {
     "name": "stdout",
     "output_type": "stream",
     "text": [
      "a     150\n",
      "b      45\n",
      "c    4950\n",
      "d    5050\n",
      "dtype: int64\n"
     ]
    }
   ],
   "source": [
    "print(df.sum())"
   ]
  },
  {
   "cell_type": "markdown",
   "metadata": {},
   "source": [
    "#### Applymap Operations (coming soon!)"
   ]
  },
  {
   "cell_type": "code",
   "execution_count": 59,
   "metadata": {},
   "outputs": [],
   "source": [
    "df = cudf.DataFrame({'a': np.repeat([0, 1, 2, 3], 25).astype(np.int32), \n",
    "                     'b': np.random.randint(2, size=100).astype(np.int32), \n",
    "                     'c': np.arange(0, 100).astype(np.int32), \n",
    "                     'd': np.arange(100, 0, -1).astype(np.int32)})"
   ]
  },
  {
   "cell_type": "code",
   "execution_count": 60,
   "metadata": {},
   "outputs": [
    {
     "name": "stdout",
     "output_type": "stream",
     "text": [
      "0    10\n",
      "1    11\n",
      "2    12\n",
      "3    13\n",
      "4    14\n",
      "5    15\n",
      "6    16\n",
      "7    17\n",
      "8    18\n",
      "9    19\n",
      "[90 more rows]\n",
      "Name: c, dtype: int32\n"
     ]
    }
   ],
   "source": [
    "def add_ten_to_x(x):\n",
    "    return x + 10\n",
    "\n",
    "print(df['c'].applymap(add_ten_to_x))"
   ]
  },
  {
   "cell_type": "markdown",
   "metadata": {},
   "source": [
    "#### Histogramming (coming soon!)"
   ]
  },
  {
   "cell_type": "code",
   "execution_count": 61,
   "metadata": {},
   "outputs": [],
   "source": [
    "df = cudf.DataFrame({'a': np.repeat([0, 1, 2, 3], 25).astype(np.int32), \n",
    "                     'b': np.random.randint(2, size=100).astype(np.int32), \n",
    "                     'c': np.arange(0, 100).astype(np.int32), \n",
    "                     'd': np.arange(100, 0, -1).astype(np.int32)})"
   ]
  },
  {
   "cell_type": "code",
   "execution_count": 62,
   "metadata": {},
   "outputs": [
    {
     "name": "stdout",
     "output_type": "stream",
     "text": [
      "0    25\n",
      "1    25\n",
      "2    25\n",
      "3    25\n",
      "dtype: int64\n"
     ]
    }
   ],
   "source": [
    "result = df['a'].value_counts()\n",
    "print(result)"
   ]
  },
  {
   "cell_type": "markdown",
   "metadata": {},
   "source": [
    "#### Concatenations (coming soon!)"
   ]
  },
  {
   "cell_type": "code",
   "execution_count": 63,
   "metadata": {},
   "outputs": [],
   "source": [
    "df1 = cudf.DataFrame({'a': np.repeat([0, 1, 2, 3], 25).astype(np.int32), \n",
    "                      'b': np.random.randint(2, size=100).astype(np.int32), \n",
    "                      'c': np.arange(0, 100).astype(np.int32), \n",
    "                      'd': np.arange(100, 0, -1).astype(np.int32)})\n",
    "df2 = cudf.DataFrame({'a': np.repeat([0, 1, 2, 3], 25).astype(np.int32), \n",
    "                      'b': np.random.randint(2, size=100).astype(np.int32), \n",
    "                      'c': np.arange(0, 100).astype(np.int32), \n",
    "                      'd': np.arange(100, 0, -1).astype(np.int32)})"
   ]
  },
  {
   "cell_type": "code",
   "execution_count": 64,
   "metadata": {},
   "outputs": [
    {
     "data": {
      "text/plain": [
       "<cudf.DataFrame ncols=4 nrows=200 >"
      ]
     },
     "execution_count": 64,
     "metadata": {},
     "output_type": "execute_result"
    }
   ],
   "source": [
    "df = cudf.concat([df1, df2], axis=0)\n",
    "df"
   ]
  },
  {
   "cell_type": "code",
   "execution_count": 65,
   "metadata": {},
   "outputs": [],
   "source": [
    "df1 = cudf.DataFrame({'a': np.repeat([0, 1, 2, 3], 25).astype(np.int32), \n",
    "                      'b': np.random.randint(2, size=100).astype(np.int32), \n",
    "                      'c': np.arange(0, 100).astype(np.int32), \n",
    "                      'd': np.arange(100, 0, -1).astype(np.int32)})\n",
    "df2 = cudf.DataFrame({'e': np.repeat([0, 1, 2, 3], 25).astype(np.int32), \n",
    "                      'f': np.random.randint(2, size=100).astype(np.int32), \n",
    "                      'g': np.arange(0, 100).astype(np.int32), \n",
    "                      'h': np.arange(100, 0, -1).astype(np.int32)})"
   ]
  },
  {
   "cell_type": "code",
   "execution_count": 66,
   "metadata": {},
   "outputs": [
    {
     "data": {
      "text/plain": [
       "<cudf.DataFrame ncols=8 nrows=100 >"
      ]
     },
     "execution_count": 66,
     "metadata": {},
     "output_type": "execute_result"
    }
   ],
   "source": [
    "df = cudf.concat([df1, df2], axis=1)\n",
    "df"
   ]
  },
  {
   "cell_type": "markdown",
   "metadata": {},
   "source": [
    "#### Joins (coming soon!)"
   ]
  },
  {
   "cell_type": "code",
   "execution_count": 67,
   "metadata": {},
   "outputs": [],
   "source": [
    "df1 = cudf.DataFrame({'a': np.repeat([0, 1, 2, 3], 25).astype(np.int32), \n",
    "                      'b': np.random.randint(2, size=100).astype(np.int32), \n",
    "                      'c': np.arange(0, 100).astype(np.int32), \n",
    "                      'd': np.arange(100, 0, -1).astype(np.int32)})\n",
    "df2 = cudf.DataFrame({'a': np.repeat([0, 1, 2, 3], 25).astype(np.int32), \n",
    "                      'b': np.random.randint(2, size=100).astype(np.int32), \n",
    "                      'e': np.arange(0, 100).astype(np.int32), \n",
    "                      'f': np.arange(100, 0, -1).astype(np.int32)})"
   ]
  },
  {
   "cell_type": "code",
   "execution_count": 68,
   "metadata": {},
   "outputs": [
    {
     "name": "stdout",
     "output_type": "stream",
     "text": [
      "   a  b_x   c   d  b_y   e   f\n",
      "0  1    0  32  68    0  25  75\n",
      "1  1    1  33  67    0  25  75\n",
      "2  1    1  34  66    0  25  75\n",
      "3  1    1  35  65    0  25  75\n",
      "4  1    1  36  64    0  25  75\n"
     ]
    }
   ],
   "source": [
    "df = df1.merge(df2, on=['a'])\n",
    "print(df.head())"
   ]
  },
  {
   "cell_type": "code",
   "execution_count": 69,
   "metadata": {},
   "outputs": [
    {
     "name": "stdout",
     "output_type": "stream",
     "text": [
      "   a  b  c    d  e    f\n",
      "0  0  0  0  100  1   99\n",
      "1  0  0  1   99  1   99\n",
      "2  0  0  2   98  1   99\n",
      "3  0  1  3   97  0  100\n",
      "4  0  0  4   96  1   99\n"
     ]
    }
   ],
   "source": [
    "df = df1.merge(df2, on=['a', 'b'])\n",
    "print(df.head())"
   ]
  },
  {
   "cell_type": "code",
   "execution_count": 70,
   "metadata": {},
   "outputs": [
    {
     "name": "stdout",
     "output_type": "stream",
     "text": [
      "   a  b_x   c   d  b_y   e   f\n",
      "0  2    1  64  36    1  50  50\n",
      "1  2    1  65  35    1  50  50\n",
      "2  2    1  66  34    1  50  50\n",
      "3  2    0  67  33    1  50  50\n",
      "4  2    1  68  32    1  50  50\n"
     ]
    }
   ],
   "source": [
    "df = cudf.merge(df1, df2, on=['a'])\n",
    "print(df.head())"
   ]
  },
  {
   "cell_type": "code",
   "execution_count": 71,
   "metadata": {},
   "outputs": [
    {
     "name": "stdout",
     "output_type": "stream",
     "text": [
      "   a  b  c    d  e    f\n",
      "0  0  0  0  100  1   99\n",
      "1  0  0  1   99  1   99\n",
      "2  0  0  2   98  1   99\n",
      "3  0  1  3   97  0  100\n",
      "4  0  0  4   96  1   99\n"
     ]
    }
   ],
   "source": [
    "df = cudf.merge(df1, df2, on=['a', 'b'])\n",
    "print(df.head())"
   ]
  },
  {
   "cell_type": "markdown",
   "metadata": {},
   "source": [
    "#### Appends (coming soon!)"
   ]
  },
  {
   "cell_type": "code",
   "execution_count": 72,
   "metadata": {},
   "outputs": [],
   "source": [
    "df1 = cudf.DataFrame({'a': np.repeat([0, 1, 2, 3], 25).astype(np.int32), \n",
    "                      'b': np.random.randint(2, size=100).astype(np.int32), \n",
    "                      'c': np.arange(0, 100).astype(np.int32), \n",
    "                      'd': np.arange(100, 0, -1).astype(np.int32)})\n",
    "df2 = cudf.DataFrame({'a': np.repeat([0, 1, 2, 3], 25).astype(np.int32), \n",
    "                      'b': np.random.randint(2, size=100).astype(np.int32), \n",
    "                      'e': np.arange(0, 100).astype(np.int32), \n",
    "                      'f': np.arange(100, 0, -1).astype(np.int32)})"
   ]
  },
  {
   "cell_type": "code",
   "execution_count": 73,
   "metadata": {},
   "outputs": [
    {
     "name": "stdout",
     "output_type": "stream",
     "text": [
      "0    0\n",
      "1    0\n",
      "2    0\n",
      "3    0\n",
      "4    0\n",
      "5    0\n",
      "6    0\n",
      "7    0\n",
      "8    1\n",
      "9    0\n",
      "dtype: int32\n"
     ]
    }
   ],
   "source": [
    "print(df.a.head().append(df.b.head()))"
   ]
  },
  {
   "cell_type": "markdown",
   "metadata": {},
   "source": [
    "#### Groupbys (coming soon!)"
   ]
  },
  {
   "cell_type": "code",
   "execution_count": 74,
   "metadata": {},
   "outputs": [
    {
     "name": "stdout",
     "output_type": "stream",
     "text": [
      "   a  b  c    d\n",
      "0  0  1  0  100\n",
      "1  0  1  1   99\n",
      "2  0  1  2   98\n",
      "3  0  0  3   97\n",
      "4  0  0  4   96\n"
     ]
    }
   ],
   "source": [
    "df = cudf.DataFrame({'a': np.repeat([0, 1, 2, 3], 25).astype(np.int32), \n",
    "                     'b': np.random.randint(2, size=100).astype(np.int32), \n",
    "                     'c': np.arange(0, 100).astype(np.int32), \n",
    "                     'd': np.arange(100, 0, -1).astype(np.int32)})\n",
    "print(df.head())"
   ]
  },
  {
   "cell_type": "code",
   "execution_count": 75,
   "metadata": {},
   "outputs": [
    {
     "name": "stdout",
     "output_type": "stream",
     "text": [
      "    b     c     d\n",
      "a\n",
      "0  13   300  2200\n",
      "1  15   925  1575\n",
      "2  13  1550   950\n",
      "3  15  2175   325\n"
     ]
    }
   ],
   "source": [
    "aggregation = df.groupby('a').sum()\n",
    "print(aggregation)"
   ]
  },
  {
   "cell_type": "code",
   "execution_count": 76,
   "metadata": {},
   "outputs": [
    {
     "name": "stdout",
     "output_type": "stream",
     "text": [
      "        c     d\n",
      "a b            \n",
      "0 0   158  1042\n",
      "  1   142  1158\n",
      "1 0   365   635\n",
      "  1   560   940\n",
      "2 0   763   437\n",
      "  1   787   513\n",
      "3 0   873   127\n",
      "  1  1302   198\n"
     ]
    }
   ],
   "source": [
    "aggregation = df.groupby(['a', 'b']).sum().to_pandas()\n",
    "print(aggregation)"
   ]
  },
  {
   "cell_type": "markdown",
   "metadata": {},
   "source": [
    "#### One Hot Encoding (coming soon!)"
   ]
  },
  {
   "cell_type": "code",
   "execution_count": 77,
   "metadata": {},
   "outputs": [
    {
     "name": "stdout",
     "output_type": "stream",
     "text": [
      "   a  b    c\n",
      "0  0  0  100\n",
      "1  0  1   99\n",
      "2  0  2   98\n",
      "3  0  3   97\n",
      "4  0  4   96\n"
     ]
    }
   ],
   "source": [
    "categories = [0, 1, 2, 3]\n",
    "df = cudf.DataFrame({'a': np.repeat(categories, 25).astype(np.int32), \n",
    "                     'b': np.arange(0, 100).astype(np.int32), \n",
    "                     'c': np.arange(100, 0, -1).astype(np.int32)})\n",
    "print(df.head())"
   ]
  },
  {
   "cell_type": "code",
   "execution_count": 78,
   "metadata": {},
   "outputs": [
    {
     "name": "stdout",
     "output_type": "stream",
     "text": [
      "   a  b    c  a__0  a__1  a__2  a__3\n",
      "0  0  0  100   1.0   0.0   0.0   0.0\n",
      "1  0  1   99   1.0   0.0   0.0   0.0\n",
      "2  0  2   98   1.0   0.0   0.0   0.0\n",
      "3  0  3   97   1.0   0.0   0.0   0.0\n",
      "4  0  4   96   1.0   0.0   0.0   0.0\n",
      "   a   b  c  a__0  a__1  a__2  a__3\n",
      "95  3  95  5   0.0   0.0   0.0   1.0\n",
      "96  3  96  4   0.0   0.0   0.0   1.0\n",
      "97  3  97  3   0.0   0.0   0.0   1.0\n",
      "98  3  98  2   0.0   0.0   0.0   1.0\n",
      "99  3  99  1   0.0   0.0   0.0   1.0\n"
     ]
    }
   ],
   "source": [
    "result = df.one_hot_encoding('a', prefix='a_', cats=categories)\n",
    "print(result.head())\n",
    "print(result.tail())"
   ]
  },
  {
   "cell_type": "markdown",
   "metadata": {},
   "source": [
    "#### Categoricals (coming soon!)"
   ]
  },
  {
   "cell_type": "code",
   "execution_count": 79,
   "metadata": {},
   "outputs": [
    {
     "name": "stdout",
     "output_type": "stream",
     "text": [
      "   key  value\n",
      "0    1      a\n",
      "1    2      b\n",
      "2    3      b\n",
      "3    4      a\n",
      "4    5      a\n",
      "5    6      e\n"
     ]
    }
   ],
   "source": [
    "pandas_df = pd.DataFrame({'key': [1, 2, 3, 4, 5, 6], \n",
    "                          'value': ['a', 'b', 'b', 'a', 'a', 'e']})\n",
    "pandas_df['value'] = pandas_df['value'].astype('category')\n",
    "\n",
    "df = cudf.DataFrame.from_pandas(pandas_df)\n",
    "print(df)"
   ]
  },
  {
   "cell_type": "code",
   "execution_count": 80,
   "metadata": {},
   "outputs": [
    {
     "name": "stdout",
     "output_type": "stream",
     "text": [
      "('a', 'b', 'e')\n"
     ]
    }
   ],
   "source": [
    "print(df.value.cat.categories)"
   ]
  },
  {
   "cell_type": "code",
   "execution_count": 81,
   "metadata": {},
   "outputs": [
    {
     "name": "stdout",
     "output_type": "stream",
     "text": [
      "0    0\n",
      "1    1\n",
      "2    1\n",
      "3    0\n",
      "4    0\n",
      "5    2\n",
      "dtype: int8\n"
     ]
    }
   ],
   "source": [
    "print(df.value.cat.codes)"
   ]
  },
  {
   "cell_type": "markdown",
   "metadata": {},
   "source": [
    "<a id=\"conclusion\"></a>\n",
    "## Conclusion\n",
    "\n",
    "In this notebook, we showed how to work with cuDF DataFrames in RAPIDS.\n",
    "\n",
    "To learn more about RAPIDS, be sure to check out: \n",
    "\n",
    "* [Open Source Website](http://rapids.ai)\n",
    "* [GitHub](https://github.com/rapidsai/)\n",
    "* [Press Release](https://nvidianews.nvidia.com/news/nvidia-introduces-rapids-open-source-gpu-acceleration-platform-for-large-scale-data-analytics-and-machine-learning)\n",
    "* [NVIDIA Blog](https://blogs.nvidia.com/blog/2018/10/10/rapids-data-science-open-source-community/)\n",
    "* [Developer Blog](https://devblogs.nvidia.com/gpu-accelerated-analytics-rapids/)\n",
    "* [NVIDIA Data Science Webpage](https://www.nvidia.com/en-us/deep-learning-ai/solutions/data-science/)"
   ]
  },
  {
   "cell_type": "code",
   "execution_count": null,
   "metadata": {},
   "outputs": [],
   "source": []
  }
 ],
 "metadata": {
  "kernelspec": {
   "display_name": "Python 3",
   "language": "python",
   "name": "python3"
  },
  "language_info": {
   "codemirror_mode": {
    "name": "ipython",
    "version": 3
   },
   "file_extension": ".py",
   "mimetype": "text/x-python",
   "name": "python",
   "nbconvert_exporter": "python",
   "pygments_lexer": "ipython3",
   "version": "3.7.3"
  }
 },
 "nbformat": 4,
 "nbformat_minor": 2
}
