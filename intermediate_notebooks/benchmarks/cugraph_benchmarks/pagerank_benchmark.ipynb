{
 "cells": [
  {
   "cell_type": "markdown",
   "metadata": {},
   "source": [
    "# PageRank Performance Benchmarking\n",
    "\n",
    "This notebook benchmarks performance improvement of running PageRank within cuGraph against NetworkX.\n",
    "\n",
    "Notebook Credits\n",
    "\n",
    "    Original Authors: Bradley Rees\n",
    "    Last Edit: 08/06/2019\n",
    "\n",
    "RAPIDS Versions: 0.9.0\n",
    "\n",
    "Test Hardware\n",
    "\n",
    "    GV100 32G, CUDA 10,0\n",
    "    Intel(R) Core(TM) CPU i7-7800X @ 3.50GHz\n",
    "    32GB system memory\n",
    "    \n",
    "   "
   ]
  },
  {
   "cell_type": "code",
   "execution_count": null,
   "metadata": {},
   "outputs": [],
   "source": [
    "# Import needed libraries\n",
    "import time\n",
    "import cugraph\n",
    "import cudf\n",
    "import numpy as np\n",
    "from collections import OrderedDict\n",
    "import os"
   ]
  },
  {
   "cell_type": "code",
   "execution_count": null,
   "metadata": {},
   "outputs": [],
   "source": [
    "# NetworkX libraries\n",
    "try: \n",
    "    import community\n",
    "except ModuleNotFoundError:\n",
    "    os.system('pip install python-louvain')\n",
    "    import community\n",
    "import networkx as nx\n",
    "from scipy.io import mmread"
   ]
  },
  {
   "cell_type": "markdown",
   "metadata": {},
   "source": [
    "### Define the test data"
   ]
  },
  {
   "cell_type": "code",
   "execution_count": null,
   "metadata": {},
   "outputs": [],
   "source": [
    "!bash dataPrep.sh"
   ]
  },
  {
   "cell_type": "code",
   "execution_count": null,
   "metadata": {},
   "outputs": [],
   "source": [
    "# Test File\n",
    "data = {\n",
    "    'preferentialAttachment' : './data/preferentialAttachment.mtx',\n",
    "    'caidaRouterLevel'       : './data/caidaRouterLevel.mtx',\n",
    "    'coAuthorsDBLP'          : './data/coAuthorsDBLP.mtx',\n",
    "    'dblp'                   : './data/dblp-2010.mtx',\n",
    "    'citationCiteseer'       : './data/citationCiteseer.mtx',\n",
    "    'coPapersDBLP'           : './data/coPapersDBLP.mtx',\n",
    "    'coPapersCiteseer'       : './data/coPapersCiteseer.mtx',\n",
    "    'as-Skitter'             : './data/as-Skitter.mtx'\n",
    "}"
   ]
  },
  {
   "cell_type": "markdown",
   "metadata": {},
   "source": [
    "### Define the testing functions"
   ]
  },
  {
   "cell_type": "code",
   "execution_count": null,
   "metadata": {},
   "outputs": [],
   "source": [
    "def read_mtx_file(mm_file):\n",
    "    print('Reading ' + str(mm_file) + '...')\n",
    "    M = mmread(mm_file).asfptype()\n",
    "     \n",
    "    return M"
   ]
  },
  {
   "cell_type": "code",
   "execution_count": null,
   "metadata": {},
   "outputs": [],
   "source": [
    "def cugraph_call(M, max_iter, tol, alpha):\n",
    "    # Device data\n",
    "    sources = cudf.Series(M.row)\n",
    "    destinations = cudf.Series(M.col)\n",
    "\n",
    "    # cugraph Pagerank Call\n",
    "    G = cugraph.Graph()\n",
    "    G.add_edge_list(sources, destinations, None)\n",
    "    \n",
    "    t1 = time.time()\n",
    "    df = cugraph.pagerank(G, alpha=alpha, max_iter=max_iter, tol=tol)\n",
    "    t2 = time.time() - t1\n",
    "    \n",
    "    return t2\n",
    "    "
   ]
  },
  {
   "cell_type": "code",
   "execution_count": null,
   "metadata": {},
   "outputs": [],
   "source": [
    "def networkx_call(M, max_iter, tol, alpha):\n",
    "    nnz_per_row = {r: 0 for r in range(M.get_shape()[0])}\n",
    "    for nnz in range(M.getnnz()):\n",
    "        nnz_per_row[M.row[nnz]] = 1 + nnz_per_row[M.row[nnz]]\n",
    "    for nnz in range(M.getnnz()):\n",
    "        M.data[nnz] = 1.0/float(nnz_per_row[M.row[nnz]])\n",
    "\n",
    "    M = M.tocsr()\n",
    "    if M is None:\n",
    "        raise TypeError('Could not read the input graph')\n",
    "    if M.shape[0] != M.shape[1]:\n",
    "        raise TypeError('Shape is not square')\n",
    "\n",
    "    # should be autosorted, but check just to make sure\n",
    "    if not M.has_sorted_indices:\n",
    "        print('sort_indices ... ')\n",
    "        M.sort_indices()\n",
    "\n",
    "    # Directed NetworkX graph\n",
    "    Gnx = nx.DiGraph(M)\n",
    "\n",
    "    z = {k: 1.0/M.shape[0] for k in range(M.shape[0])}\n",
    "\n",
    "    # Networkx Pagerank Call\n",
    "    print('Solving... ')\n",
    "    t1 = time.time()\n",
    "    pr = nx.pagerank(Gnx, alpha, z, max_iter, tol)\n",
    "    t2 = time.time() - t1\n",
    "\n",
    "    return t2"
   ]
  },
  {
   "cell_type": "markdown",
   "metadata": {},
   "source": [
    "### Run the benchmarks"
   ]
  },
  {
   "cell_type": "code",
   "execution_count": null,
   "metadata": {},
   "outputs": [],
   "source": [
    "perf  = []\n",
    "names = []\n",
    "\n",
    "for k,v in data.items():\n",
    "    M = read_mtx_file(v)\n",
    "    tr = cugraph_call(M, 100, 0.00001, 0.85)\n",
    "    tn = networkx_call(M, 100, 0.00001, 0.85)\n",
    "    speedUp = (tn / tr)\n",
    "    names.append(k)\n",
    "    perf.append(speedUp)\n",
    "    \n",
    "    print(str(speedUp) + \"x faster =>  cugraph \" + str(tr) + \" vs \" + str(tn))"
   ]
  },
  {
   "cell_type": "code",
   "execution_count": null,
   "metadata": {},
   "outputs": [],
   "source": [
    "### plot the output"
   ]
  },
  {
   "cell_type": "code",
   "execution_count": null,
   "metadata": {},
   "outputs": [],
   "source": [
    "%matplotlib inline\n",
    "\n",
    "import matplotlib.pyplot as plt; plt.rcdefaults()\n",
    "import numpy as np\n",
    "import matplotlib.pyplot as plt\n",
    " \n",
    "y_pos = np.arange(len(names))\n",
    " \n",
    "plt.bar(y_pos, perf, align='center', alpha=0.5)\n",
    "plt.xticks(y_pos, names)\n",
    "plt.ylabel('Speed Up')\n",
    "plt.title('Performance Speedup: cuGraph vs NetworkX')\n",
    "plt.xticks(rotation=90) \n",
    "plt.show()"
   ]
  },
  {
   "cell_type": "code",
   "execution_count": null,
   "metadata": {},
   "outputs": [],
   "source": []
  }
 ],
 "metadata": {
  "kernelspec": {
   "display_name": "Python 3",
   "language": "python",
   "name": "python3"
  },
  "language_info": {
   "codemirror_mode": {
    "name": "ipython",
    "version": 3
   },
   "file_extension": ".py",
   "mimetype": "text/x-python",
   "name": "python",
   "nbconvert_exporter": "python",
   "pygments_lexer": "ipython3",
   "version": "3.6.7"
  }
 },
 "nbformat": 4,
 "nbformat_minor": 4
}
